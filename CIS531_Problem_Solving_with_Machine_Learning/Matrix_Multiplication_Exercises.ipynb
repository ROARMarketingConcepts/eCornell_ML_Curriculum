{
  "nbformat": 4,
  "nbformat_minor": 0,
  "metadata": {
    "colab": {
      "provenance": [],
      "authorship_tag": "ABX9TyPHiVWaquvcLMUcUxSrYwoi",
      "include_colab_link": true
    },
    "kernelspec": {
      "name": "python3",
      "display_name": "Python 3"
    },
    "language_info": {
      "name": "python"
    }
  },
  "cells": [
    {
      "cell_type": "markdown",
      "metadata": {
        "id": "view-in-github",
        "colab_type": "text"
      },
      "source": [
        "<a href=\"https://colab.research.google.com/github/ROARMarketingConcepts/Cornell_ML_Course/blob/main/Matrix_Multiplication_Exercises.ipynb\" target=\"_parent\"><img src=\"https://colab.research.google.com/assets/colab-badge.svg\" alt=\"Open In Colab\"/></a>"
      ]
    },
    {
      "cell_type": "code",
      "execution_count": 1,
      "metadata": {
        "id": "pFuamlSRGfED"
      },
      "outputs": [],
      "source": [
        "import numpy as np"
      ]
    },
    {
      "cell_type": "code",
      "source": [
        "X = np.random.random((2,3))\n",
        "Y = np.random.random((3,2))\n",
        "X,Y"
      ],
      "metadata": {
        "colab": {
          "base_uri": "https://localhost:8080/"
        },
        "id": "QEBVsVvRGxmu",
        "outputId": "6bb35526-5516-4e46-ca0c-5ac2690a1749"
      },
      "execution_count": 2,
      "outputs": [
        {
          "output_type": "execute_result",
          "data": {
            "text/plain": [
              "(array([[0.69481812, 0.79930268, 0.11838642],\n",
              "        [0.19897707, 0.59857723, 0.77285065]]),\n",
              " array([[0.97362015, 0.86535753],\n",
              "        [0.54574708, 0.50642892],\n",
              "        [0.19746469, 0.26868858]]))"
            ]
          },
          "metadata": {},
          "execution_count": 2
        }
      ]
    },
    {
      "cell_type": "code",
      "source": [
        "X@Y"
      ],
      "metadata": {
        "colab": {
          "base_uri": "https://localhost:8080/"
        },
        "id": "FU5LGwfIG72u",
        "outputId": "bd7d94b8-2fbd-40ac-ce3d-f10a82e930d4"
      },
      "execution_count": 3,
      "outputs": [
        {
          "output_type": "execute_result",
          "data": {
            "text/plain": [
              "array([[1.13608317, 1.03786517],\n",
              "       [0.67301057, 0.68297927]])"
            ]
          },
          "metadata": {},
          "execution_count": 3
        }
      ]
    },
    {
      "cell_type": "code",
      "source": [
        "X=np.random.random((3,2))\n",
        "Y=np.random.random((2,4))\n",
        "np.dot(X,Y)\n"
      ],
      "metadata": {
        "colab": {
          "base_uri": "https://localhost:8080/"
        },
        "id": "oID6wNhvHGcz",
        "outputId": "375b0268-9ee5-4abd-f71e-e80ee0bcdbb8"
      },
      "execution_count": 4,
      "outputs": [
        {
          "output_type": "execute_result",
          "data": {
            "text/plain": [
              "array([[0.0533417 , 0.18984203, 0.21998608, 0.18289472],\n",
              "       [0.05920542, 0.41239267, 0.20035175, 0.30549042],\n",
              "       [0.10488804, 0.41282152, 0.42398039, 0.3797205 ]])"
            ]
          },
          "metadata": {},
          "execution_count": 4
        }
      ]
    },
    {
      "cell_type": "code",
      "source": [
        "X = np.random.random((9,4))\n",
        "X"
      ],
      "metadata": {
        "colab": {
          "base_uri": "https://localhost:8080/"
        },
        "id": "eUgFhV9KlWRs",
        "outputId": "bde277d0-8e90-4311-9da3-d9904f26d5d1"
      },
      "execution_count": 5,
      "outputs": [
        {
          "output_type": "execute_result",
          "data": {
            "text/plain": [
              "array([[0.86849895, 0.02511165, 0.28674931, 0.36293098],\n",
              "       [0.1389903 , 0.38308187, 0.67105934, 0.46446255],\n",
              "       [0.4030807 , 0.91720625, 0.46330097, 0.9950233 ],\n",
              "       [0.32463622, 0.3649676 , 0.48543133, 0.36636874],\n",
              "       [0.07737139, 0.77786019, 0.00409969, 0.32239361],\n",
              "       [0.60599051, 0.83112248, 0.35697069, 0.89018686],\n",
              "       [0.17361725, 0.37145329, 0.16116042, 0.49585936],\n",
              "       [0.37495032, 0.86056036, 0.66089904, 0.95695217],\n",
              "       [0.73215427, 0.78486372, 0.2198699 , 0.67968894]])"
            ]
          },
          "metadata": {},
          "execution_count": 5
        }
      ]
    },
    {
      "cell_type": "markdown",
      "source": [
        "Multiply a matrix by a scalar"
      ],
      "metadata": {
        "id": "a9KyuQBElhVD"
      }
    },
    {
      "cell_type": "code",
      "source": [
        "3*X"
      ],
      "metadata": {
        "colab": {
          "base_uri": "https://localhost:8080/"
        },
        "id": "P9tzf4DQldQn",
        "outputId": "3ae41cf6-b7eb-4cff-f441-bb48dd90d890"
      },
      "execution_count": 6,
      "outputs": [
        {
          "output_type": "execute_result",
          "data": {
            "text/plain": [
              "array([[2.60549685, 0.07533496, 0.86024794, 1.08879294],\n",
              "       [0.41697089, 1.14924561, 2.01317803, 1.39338766],\n",
              "       [1.20924211, 2.75161874, 1.3899029 , 2.9850699 ],\n",
              "       [0.97390866, 1.0949028 , 1.456294  , 1.09910621],\n",
              "       [0.23211417, 2.33358057, 0.01229906, 0.96718082],\n",
              "       [1.81797154, 2.49336744, 1.07091208, 2.67056058],\n",
              "       [0.52085176, 1.11435988, 0.48348127, 1.48757807],\n",
              "       [1.12485096, 2.58168109, 1.98269712, 2.87085652],\n",
              "       [2.19646281, 2.35459116, 0.65960969, 2.03906683]])"
            ]
          },
          "metadata": {},
          "execution_count": 6
        }
      ]
    },
    {
      "cell_type": "code",
      "source": [
        "np.dot(3,X)"
      ],
      "metadata": {
        "colab": {
          "base_uri": "https://localhost:8080/"
        },
        "id": "IWB68yf3muTQ",
        "outputId": "c52e343c-7a26-4305-aa87-983c0a6d8a99"
      },
      "execution_count": 7,
      "outputs": [
        {
          "output_type": "execute_result",
          "data": {
            "text/plain": [
              "array([[2.60549685, 0.07533496, 0.86024794, 1.08879294],\n",
              "       [0.41697089, 1.14924561, 2.01317803, 1.39338766],\n",
              "       [1.20924211, 2.75161874, 1.3899029 , 2.9850699 ],\n",
              "       [0.97390866, 1.0949028 , 1.456294  , 1.09910621],\n",
              "       [0.23211417, 2.33358057, 0.01229906, 0.96718082],\n",
              "       [1.81797154, 2.49336744, 1.07091208, 2.67056058],\n",
              "       [0.52085176, 1.11435988, 0.48348127, 1.48757807],\n",
              "       [1.12485096, 2.58168109, 1.98269712, 2.87085652],\n",
              "       [2.19646281, 2.35459116, 0.65960969, 2.03906683]])"
            ]
          },
          "metadata": {},
          "execution_count": 7
        }
      ]
    },
    {
      "cell_type": "code",
      "source": [
        "X = np.random.random((5,6))\n",
        "Y = np.random.random((6,1))\n",
        "X,Y"
      ],
      "metadata": {
        "colab": {
          "base_uri": "https://localhost:8080/"
        },
        "id": "0rbmV8xUl9ES",
        "outputId": "bdd94083-4526-4b08-cbd4-12c73ba84ec0"
      },
      "execution_count": 8,
      "outputs": [
        {
          "output_type": "execute_result",
          "data": {
            "text/plain": [
              "(array([[0.99339115, 0.1436463 , 0.80182409, 0.14112316, 0.14876582,\n",
              "         0.68886537],\n",
              "        [0.89778172, 0.23022413, 0.58315596, 0.33860552, 0.16068683,\n",
              "         0.66495109],\n",
              "        [0.6592888 , 0.09165374, 0.85692692, 0.96046724, 0.71464913,\n",
              "         0.31459503],\n",
              "        [0.07450486, 0.42370647, 0.26735118, 0.44303764, 0.18254121,\n",
              "         0.00398353],\n",
              "        [0.16514418, 0.62194738, 0.55111645, 0.54535479, 0.71553646,\n",
              "         0.35852975]]),\n",
              " array([[0.00982524],\n",
              "        [0.00313838],\n",
              "        [0.07425289],\n",
              "        [0.7010518 ],\n",
              "        [0.31722065],\n",
              "        [0.83819298]]))"
            ]
          },
          "metadata": {},
          "execution_count": 8
        }
      ]
    },
    {
      "cell_type": "code",
      "source": [
        "X@Y, np.dot(X,Y)"
      ],
      "metadata": {
        "colab": {
          "base_uri": "https://localhost:8080/"
        },
        "id": "SdmPLMjcmMPE",
        "outputId": "76f0aebd-2ea7-4105-e1a4-a0ca655fa62e"
      },
      "execution_count": 9,
      "outputs": [
        {
          "output_type": "execute_result",
          "data": {
            "text/plain": [
              "(array([[0.79327724],\n",
              "        [0.89855499],\n",
              "        [1.23412471],\n",
              "        [0.39375052],\n",
              "        [0.9543185 ]]),\n",
              " array([[0.79327724],\n",
              "        [0.89855499],\n",
              "        [1.23412471],\n",
              "        [0.39375052],\n",
              "        [0.9543185 ]]))"
            ]
          },
          "metadata": {},
          "execution_count": 9
        }
      ]
    },
    {
      "cell_type": "markdown",
      "source": [
        "#### Multiplying Row Vectors\n",
        "\n",
        "The `np.dot()` function expects matrices to have compatible dimensions. Using the `np.outer()` function automatically transposes the first matrix before computing the product. Because the first matrix is transposed, the order of vectors matters."
      ],
      "metadata": {
        "id": "B3tABVsrnK1H"
      }
    },
    {
      "cell_type": "code",
      "source": [
        "X=np.random.random((1,6))\n",
        "Y=np.random.random((1,4))\n",
        "X,Y"
      ],
      "metadata": {
        "colab": {
          "base_uri": "https://localhost:8080/"
        },
        "id": "ijegUpYFnGCh",
        "outputId": "e6421860-9d78-4d39-99f1-f01ea7c83dee"
      },
      "execution_count": 12,
      "outputs": [
        {
          "output_type": "execute_result",
          "data": {
            "text/plain": [
              "(array([[0.81970116, 0.10503094, 0.716929  , 0.07940752, 0.11712332,\n",
              "         0.30165158]]),\n",
              " array([[0.06653698, 0.6347418 , 0.31910353, 0.71968093]]))"
            ]
          },
          "metadata": {},
          "execution_count": 12
        }
      ]
    },
    {
      "cell_type": "code",
      "source": [
        "np.dot(X,Y)"
      ],
      "metadata": {
        "colab": {
          "base_uri": "https://localhost:8080/",
          "height": 208
        },
        "id": "oOvMv08AnzqX",
        "outputId": "a75f36d5-0703-4681-af27-9eddf593abbd"
      },
      "execution_count": 13,
      "outputs": [
        {
          "output_type": "error",
          "ename": "ValueError",
          "evalue": "ignored",
          "traceback": [
            "\u001b[0;31m---------------------------------------------------------------------------\u001b[0m",
            "\u001b[0;31mValueError\u001b[0m                                Traceback (most recent call last)",
            "\u001b[0;32m<ipython-input-13-75381b454682>\u001b[0m in \u001b[0;36m<cell line: 1>\u001b[0;34m()\u001b[0m\n\u001b[0;32m----> 1\u001b[0;31m \u001b[0mnp\u001b[0m\u001b[0;34m.\u001b[0m\u001b[0mdot\u001b[0m\u001b[0;34m(\u001b[0m\u001b[0mX\u001b[0m\u001b[0;34m,\u001b[0m\u001b[0mY\u001b[0m\u001b[0;34m)\u001b[0m\u001b[0;34m\u001b[0m\u001b[0;34m\u001b[0m\u001b[0m\n\u001b[0m",
            "\u001b[0;32m/usr/local/lib/python3.10/dist-packages/numpy/core/overrides.py\u001b[0m in \u001b[0;36mdot\u001b[0;34m(*args, **kwargs)\u001b[0m\n",
            "\u001b[0;31mValueError\u001b[0m: shapes (1,6) and (1,4) not aligned: 6 (dim 1) != 1 (dim 0)"
          ]
        }
      ]
    },
    {
      "cell_type": "code",
      "source": [
        "np.outer(X,Y)"
      ],
      "metadata": {
        "colab": {
          "base_uri": "https://localhost:8080/"
        },
        "id": "WAMmZi5on5HS",
        "outputId": "046d2a05-c2fc-4101-b402-20c22ad5fcbc"
      },
      "execution_count": 16,
      "outputs": [
        {
          "output_type": "execute_result",
          "data": {
            "text/plain": [
              "array([[0.05454044, 0.52029859, 0.26156953, 0.58992329],\n",
              "       [0.00698844, 0.06666753, 0.03351574, 0.07558876],\n",
              "       [0.04770229, 0.45506481, 0.22877458, 0.51596013],\n",
              "       [0.00528354, 0.05040327, 0.02533922, 0.05714808],\n",
              "       [0.00779303, 0.07434307, 0.03737447, 0.08429142],\n",
              "       [0.02007098, 0.19147087, 0.09625808, 0.21709289]])"
            ]
          },
          "metadata": {},
          "execution_count": 16
        }
      ]
    },
    {
      "cell_type": "markdown",
      "source": [
        "#### Multiplying Column Vectors"
      ],
      "metadata": {
        "id": "KbVXUeA_orco"
      }
    },
    {
      "cell_type": "code",
      "source": [
        "X=np.random.random((6,1))\n",
        "Y=np.random.random((4,1))\n",
        "X,Y"
      ],
      "metadata": {
        "colab": {
          "base_uri": "https://localhost:8080/"
        },
        "id": "ltqIJz-_og7u",
        "outputId": "78d2811b-64c8-402d-c243-3c452346285a"
      },
      "execution_count": 17,
      "outputs": [
        {
          "output_type": "execute_result",
          "data": {
            "text/plain": [
              "(array([[0.02694362],\n",
              "        [0.67476273],\n",
              "        [0.03351051],\n",
              "        [0.02503724],\n",
              "        [0.62211919],\n",
              "        [0.10410773]]),\n",
              " array([[0.01968999],\n",
              "        [0.27212835],\n",
              "        [0.2708256 ],\n",
              "        [0.45001748]]))"
            ]
          },
          "metadata": {},
          "execution_count": 17
        }
      ]
    },
    {
      "cell_type": "code",
      "source": [
        "np.outer(X,Y)"
      ],
      "metadata": {
        "colab": {
          "base_uri": "https://localhost:8080/"
        },
        "id": "KQu2THvCoygw",
        "outputId": "1113b729-075e-4785-8365-f17c6492af85"
      },
      "execution_count": 18,
      "outputs": [
        {
          "output_type": "execute_result",
          "data": {
            "text/plain": [
              "array([[0.00053052, 0.00733212, 0.00729702, 0.0121251 ],\n",
              "       [0.01328607, 0.18362206, 0.18274302, 0.30365502],\n",
              "       [0.00065982, 0.00911916, 0.0090755 , 0.01508031],\n",
              "       [0.00049298, 0.00681334, 0.00678073, 0.0112672 ],\n",
              "       [0.01224952, 0.16929627, 0.1684858 , 0.27996451],\n",
              "       [0.00204988, 0.02833066, 0.02819504, 0.0468503 ]])"
            ]
          },
          "metadata": {},
          "execution_count": 18
        }
      ]
    }
  ]
}