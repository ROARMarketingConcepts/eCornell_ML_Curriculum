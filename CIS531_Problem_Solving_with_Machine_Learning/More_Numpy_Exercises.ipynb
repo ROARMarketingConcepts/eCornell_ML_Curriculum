{
  "nbformat": 4,
  "nbformat_minor": 0,
  "metadata": {
    "colab": {
      "provenance": [],
      "authorship_tag": "ABX9TyPRcoT9nVY+wiYQj33FEXiF",
      "include_colab_link": true
    },
    "kernelspec": {
      "name": "python3",
      "display_name": "Python 3"
    },
    "language_info": {
      "name": "python"
    }
  },
  "cells": [
    {
      "cell_type": "markdown",
      "metadata": {
        "id": "view-in-github",
        "colab_type": "text"
      },
      "source": [
        "<a href=\"https://colab.research.google.com/github/ROARMarketingConcepts/Cornell_ML_Course/blob/main/More_Numpy_Exercises.ipynb\" target=\"_parent\"><img src=\"https://colab.research.google.com/assets/colab-badge.svg\" alt=\"Open In Colab\"/></a>"
      ]
    },
    {
      "cell_type": "code",
      "execution_count": 1,
      "metadata": {
        "id": "ibDcJIydEBRr"
      },
      "outputs": [],
      "source": [
        "import numpy as np"
      ]
    },
    {
      "cell_type": "markdown",
      "source": [
        "#### Mode Function\n",
        "\n",
        "In this first exercise, we will write a `mode` function. The mode function takes as input a list and returns the most frequent element. i.e. `mode([3,5,5,8,8,5]) = 5`"
      ],
      "metadata": {
        "id": "LX3XXb5lEIV8"
      }
    },
    {
      "cell_type": "code",
      "source": [
        "a = [np.random.randint(5) for x in range(10)]\n",
        "a"
      ],
      "metadata": {
        "colab": {
          "base_uri": "https://localhost:8080/"
        },
        "id": "JzD4CBBoEfvV",
        "outputId": "39eeaf6d-9400-46a2-b0aa-cfd1194cbdbd"
      },
      "execution_count": 2,
      "outputs": [
        {
          "output_type": "execute_result",
          "data": {
            "text/plain": [
              "[2, 4, 1, 1, 3, 1, 4, 0, 4, 4]"
            ]
          },
          "metadata": {},
          "execution_count": 2
        }
      ]
    },
    {
      "cell_type": "code",
      "source": [
        "def mode(x):\n",
        "  count=0\n",
        "  number=0\n",
        "  for num in x:\n",
        "    num_count = x.count(num)\n",
        "    if num_count > count:\n",
        "      count=num_count\n",
        "      number=num\n",
        "  return number"
      ],
      "metadata": {
        "id": "AKHFYp1FExZy"
      },
      "execution_count": 3,
      "outputs": []
    },
    {
      "cell_type": "code",
      "source": [
        "number=mode(a)\n",
        "number"
      ],
      "metadata": {
        "colab": {
          "base_uri": "https://localhost:8080/"
        },
        "id": "3q06C78zG9ZZ",
        "outputId": "263fd1eb-37a1-446c-ac2c-279bd7072a07"
      },
      "execution_count": 4,
      "outputs": [
        {
          "output_type": "execute_result",
          "data": {
            "text/plain": [
              "4"
            ]
          },
          "metadata": {},
          "execution_count": 4
        }
      ]
    },
    {
      "cell_type": "markdown",
      "source": [
        "#### Mode Over Matrix Columns\n",
        "Create a function that finds the mode of columns."
      ],
      "metadata": {
        "id": "K4IdST7WI6zb"
      }
    },
    {
      "cell_type": "code",
      "source": [
        "def modeC(M):\n",
        "  return [mode(list(column)) for column in M.T]"
      ],
      "metadata": {
        "id": "9L1pQ29oJXba"
      },
      "execution_count": 5,
      "outputs": []
    },
    {
      "cell_type": "code",
      "source": [
        "M = np.int16(np.round(np.random.rand(10,8)*3.0))\n",
        "M"
      ],
      "metadata": {
        "colab": {
          "base_uri": "https://localhost:8080/"
        },
        "id": "np0GReOSJESs",
        "outputId": "bfb146b6-be95-4174-dd48-916951404abd"
      },
      "execution_count": 6,
      "outputs": [
        {
          "output_type": "execute_result",
          "data": {
            "text/plain": [
              "array([[1, 1, 0, 2, 3, 1, 0, 2],\n",
              "       [2, 1, 2, 1, 1, 0, 1, 2],\n",
              "       [0, 2, 1, 2, 2, 2, 3, 0],\n",
              "       [1, 1, 2, 1, 0, 3, 1, 1],\n",
              "       [2, 1, 0, 0, 1, 2, 1, 0],\n",
              "       [1, 2, 1, 2, 2, 0, 1, 0],\n",
              "       [1, 3, 0, 3, 3, 3, 1, 1],\n",
              "       [1, 3, 1, 0, 2, 1, 2, 2],\n",
              "       [1, 1, 1, 0, 0, 0, 1, 3],\n",
              "       [1, 1, 1, 3, 0, 1, 3, 2]], dtype=int16)"
            ]
          },
          "metadata": {},
          "execution_count": 6
        }
      ]
    },
    {
      "cell_type": "code",
      "source": [
        "modes=modeC(M)\n",
        "modes"
      ],
      "metadata": {
        "colab": {
          "base_uri": "https://localhost:8080/"
        },
        "id": "xm9x7fp8KvB7",
        "outputId": "a5e4fef6-b1b4-44be-d981-8b20e7a0093b"
      },
      "execution_count": 7,
      "outputs": [
        {
          "output_type": "execute_result",
          "data": {
            "text/plain": [
              "[1, 1, 1, 2, 2, 1, 1, 2]"
            ]
          },
          "metadata": {},
          "execution_count": 7
        }
      ]
    },
    {
      "cell_type": "markdown",
      "source": [
        "#### Add a Vector to a Matrix"
      ],
      "metadata": {
        "id": "87lBPNC0VriS"
      }
    },
    {
      "cell_type": "code",
      "source": [
        "M = np.random.rand(3,8)\n",
        "M"
      ],
      "metadata": {
        "colab": {
          "base_uri": "https://localhost:8080/"
        },
        "id": "wfC-YZBOVpAS",
        "outputId": "3aea2f97-0322-46dc-9ca4-45d29343b4eb"
      },
      "execution_count": 9,
      "outputs": [
        {
          "output_type": "execute_result",
          "data": {
            "text/plain": [
              "array([[0.6807957 , 0.80956956, 0.81855112, 0.36556193, 0.80767451,\n",
              "        0.96082471, 0.62647964, 0.45519648],\n",
              "       [0.09198329, 0.71319458, 0.69658256, 0.24495194, 0.65523479,\n",
              "        0.95543571, 0.67035644, 0.64595289],\n",
              "       [0.37017313, 0.62377451, 0.09608615, 0.44178189, 0.43813031,\n",
              "        0.96945499, 0.69594262, 0.67912269]])"
            ]
          },
          "metadata": {},
          "execution_count": 9
        }
      ]
    },
    {
      "cell_type": "code",
      "source": [
        "v = np.random.rand(3)\n",
        "v"
      ],
      "metadata": {
        "colab": {
          "base_uri": "https://localhost:8080/"
        },
        "id": "mUsgaFqUWCaV",
        "outputId": "200159e7-eef5-4f2a-df15-7ddb795c396f"
      },
      "execution_count": 10,
      "outputs": [
        {
          "output_type": "execute_result",
          "data": {
            "text/plain": [
              "array([0.37237738, 0.05982098, 0.49985366])"
            ]
          },
          "metadata": {},
          "execution_count": 10
        }
      ]
    },
    {
      "cell_type": "markdown",
      "source": [
        "Add $\\vec{v}$ to each column of $M$."
      ],
      "metadata": {
        "id": "GombabXsWK9L"
      }
    },
    {
      "cell_type": "code",
      "source": [
        "result = M+v.T.reshape(3,1)\n",
        "result"
      ],
      "metadata": {
        "colab": {
          "base_uri": "https://localhost:8080/"
        },
        "id": "-HUWGHKGWVoO",
        "outputId": "303e2df7-705d-4aba-d57e-8a52a9f05b39"
      },
      "execution_count": 13,
      "outputs": [
        {
          "output_type": "execute_result",
          "data": {
            "text/plain": [
              "array([[1.05317308, 1.18194694, 1.1909285 , 0.7379393 , 1.18005189,\n",
              "        1.33320209, 0.99885701, 0.82757386],\n",
              "       [0.15180427, 0.77301556, 0.75640354, 0.30477292, 0.71505577,\n",
              "        1.01525669, 0.73017742, 0.70577388],\n",
              "       [0.8700268 , 1.12362818, 0.59593981, 0.94163555, 0.93798398,\n",
              "        1.46930865, 1.19579629, 1.17897636]])"
            ]
          },
          "metadata": {},
          "execution_count": 13
        }
      ]
    },
    {
      "cell_type": "markdown",
      "source": [
        "#### Set Negative Values to Zero\n",
        "\n",
        "Now, replace negative vales in a matrix with zeros, which is useful when we need to compute square roots.\n",
        "\n",
        "Set all negative values of matrix `Q = np.random.rand(5,5) - 0.5` to zero."
      ],
      "metadata": {
        "id": "fj_93wQXXa9-"
      }
    },
    {
      "cell_type": "code",
      "source": [
        "Q = np.random.rand(5,5) - 0.5\n",
        "Q"
      ],
      "metadata": {
        "colab": {
          "base_uri": "https://localhost:8080/"
        },
        "id": "k6SnovxSYPQU",
        "outputId": "2fc2b7fc-f1c4-437e-a42d-2b9896df2ed4"
      },
      "execution_count": 14,
      "outputs": [
        {
          "output_type": "execute_result",
          "data": {
            "text/plain": [
              "array([[ 0.41555037, -0.130721  , -0.17313601, -0.00219531, -0.42942796],\n",
              "       [-0.03668273, -0.36163955,  0.0908425 ,  0.29481735, -0.15432338],\n",
              "       [ 0.13950368,  0.36458818,  0.22526803, -0.33050081, -0.07342907],\n",
              "       [ 0.32290067,  0.01591336, -0.27698094, -0.01637098,  0.28114224],\n",
              "       [ 0.48337905, -0.11758232, -0.42852649,  0.11746303,  0.15570479]])"
            ]
          },
          "metadata": {},
          "execution_count": 14
        }
      ]
    },
    {
      "cell_type": "code",
      "source": [
        "# code to replace all negative value with 0\n",
        "Q[Q<0] = 0\n",
        "Q"
      ],
      "metadata": {
        "colab": {
          "base_uri": "https://localhost:8080/"
        },
        "id": "WqLZgWmVY2se",
        "outputId": "2c764fd6-254f-4d34-d0fb-cbfc4ea905aa"
      },
      "execution_count": 15,
      "outputs": [
        {
          "output_type": "execute_result",
          "data": {
            "text/plain": [
              "array([[0.41555037, 0.        , 0.        , 0.        , 0.        ],\n",
              "       [0.        , 0.        , 0.0908425 , 0.29481735, 0.        ],\n",
              "       [0.13950368, 0.36458818, 0.22526803, 0.        , 0.        ],\n",
              "       [0.32290067, 0.01591336, 0.        , 0.        , 0.28114224],\n",
              "       [0.48337905, 0.        , 0.        , 0.11746303, 0.15570479]])"
            ]
          },
          "metadata": {},
          "execution_count": 15
        }
      ]
    },
    {
      "cell_type": "markdown",
      "source": [
        "#### Find Index of the Minimum Value for Each Row\n",
        "\n",
        "Finding the index for the minimum value for each row.\n",
        "We will find the minimum value for each row in a matrix. This is useful when we are implementing nearest neighbors."
      ],
      "metadata": {
        "id": "ywNpHmBcZl70"
      }
    },
    {
      "cell_type": "code",
      "source": [
        "D = np.array([[1, 7, 7, 8],[4, 8, 2, 8],[2, 0, 4, 5]])\n",
        "D"
      ],
      "metadata": {
        "colab": {
          "base_uri": "https://localhost:8080/"
        },
        "id": "0lGh2zDhaGRp",
        "outputId": "0aa7cece-a0ad-4edd-fb96-034b583b7b72"
      },
      "execution_count": 16,
      "outputs": [
        {
          "output_type": "execute_result",
          "data": {
            "text/plain": [
              "array([[1, 7, 7, 8],\n",
              "       [4, 8, 2, 8],\n",
              "       [2, 0, 4, 5]])"
            ]
          },
          "metadata": {},
          "execution_count": 16
        }
      ]
    },
    {
      "cell_type": "markdown",
      "source": [
        "Find the index for the minimum value for each row. We should get `[0, 2, 1]`"
      ],
      "metadata": {
        "id": "TgfwzwINaf1J"
      }
    },
    {
      "cell_type": "code",
      "source": [
        "D.min(axis=1)"
      ],
      "metadata": {
        "colab": {
          "base_uri": "https://localhost:8080/"
        },
        "id": "aSGIGmLGaimf",
        "outputId": "441b9547-b4d0-448f-9072-1e688bb6a934"
      },
      "execution_count": 20,
      "outputs": [
        {
          "output_type": "execute_result",
          "data": {
            "text/plain": [
              "array([1, 2, 0])"
            ]
          },
          "metadata": {},
          "execution_count": 20
        }
      ]
    },
    {
      "cell_type": "markdown",
      "source": [
        "#### Repeat a vector to make a matrix\n",
        "\n",
        "Here we will practice how a vector can be repeated along rows or columns to form a matrix. This will be helpful later in one of the projects."
      ],
      "metadata": {
        "id": "6opa4rhXbI68"
      }
    },
    {
      "cell_type": "code",
      "source": [
        "v=np.random.rand((3))  # 1-dimensional array\n",
        "v=np.array([v])    # convert v.shape from (3,) to (1,3)\n",
        "v,v.shape"
      ],
      "metadata": {
        "colab": {
          "base_uri": "https://localhost:8080/"
        },
        "id": "jrG2iT_XbX7Q",
        "outputId": "e72f4fcc-83f1-44f7-8f05-70a03693b500"
      },
      "execution_count": 54,
      "outputs": [
        {
          "output_type": "execute_result",
          "data": {
            "text/plain": [
              "(array([[0.77687133, 0.25060497, 0.33631778]]), (1, 3))"
            ]
          },
          "metadata": {},
          "execution_count": 54
        }
      ]
    },
    {
      "cell_type": "markdown",
      "source": [
        "Create a 3 x 8 matrix $M_1$, where each column of the matrix is $\\vec{v}$. That is, all the entries in row $i$ of $M_1$ are $\\vec{v[i]}$.\n",
        "Next, create a 10 by 3 matrix $M_2$, where each row of the matrix is $\\vec{v}$. That is, all the entries in column $j$ of $M_2$ are $\\vec{v[j]}$."
      ],
      "metadata": {
        "id": "wNu_fC3ybr9R"
      }
    },
    {
      "cell_type": "code",
      "source": [
        "M1=np.tile(v.T,(1,8))\n",
        "M1"
      ],
      "metadata": {
        "colab": {
          "base_uri": "https://localhost:8080/"
        },
        "id": "ApDAXWENqImZ",
        "outputId": "4306ea8e-e74b-47c5-dc3d-7233ef13ec83"
      },
      "execution_count": 58,
      "outputs": [
        {
          "output_type": "execute_result",
          "data": {
            "text/plain": [
              "array([[0.77687133, 0.77687133, 0.77687133, 0.77687133, 0.77687133,\n",
              "        0.77687133, 0.77687133, 0.77687133],\n",
              "       [0.25060497, 0.25060497, 0.25060497, 0.25060497, 0.25060497,\n",
              "        0.25060497, 0.25060497, 0.25060497],\n",
              "       [0.33631778, 0.33631778, 0.33631778, 0.33631778, 0.33631778,\n",
              "        0.33631778, 0.33631778, 0.33631778]])"
            ]
          },
          "metadata": {},
          "execution_count": 58
        }
      ]
    },
    {
      "cell_type": "code",
      "source": [
        "M2=np.tile(v,(10,1))\n",
        "M2"
      ],
      "metadata": {
        "colab": {
          "base_uri": "https://localhost:8080/"
        },
        "id": "HzESpu35vsGj",
        "outputId": "8d7f17ee-d29f-479e-f655-3035f2b24eb6"
      },
      "execution_count": 59,
      "outputs": [
        {
          "output_type": "execute_result",
          "data": {
            "text/plain": [
              "array([[0.77687133, 0.25060497, 0.33631778],\n",
              "       [0.77687133, 0.25060497, 0.33631778],\n",
              "       [0.77687133, 0.25060497, 0.33631778],\n",
              "       [0.77687133, 0.25060497, 0.33631778],\n",
              "       [0.77687133, 0.25060497, 0.33631778],\n",
              "       [0.77687133, 0.25060497, 0.33631778],\n",
              "       [0.77687133, 0.25060497, 0.33631778],\n",
              "       [0.77687133, 0.25060497, 0.33631778],\n",
              "       [0.77687133, 0.25060497, 0.33631778],\n",
              "       [0.77687133, 0.25060497, 0.33631778]])"
            ]
          },
          "metadata": {},
          "execution_count": 59
        }
      ]
    }
  ]
}