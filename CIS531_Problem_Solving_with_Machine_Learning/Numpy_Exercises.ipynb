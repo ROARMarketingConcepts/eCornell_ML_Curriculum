{
  "nbformat": 4,
  "nbformat_minor": 0,
  "metadata": {
    "colab": {
      "provenance": [],
      "authorship_tag": "ABX9TyP04dyLSw2uQI5Wmx9f05MU",
      "include_colab_link": true
    },
    "kernelspec": {
      "name": "python3",
      "display_name": "Python 3"
    },
    "language_info": {
      "name": "python"
    }
  },
  "cells": [
    {
      "cell_type": "markdown",
      "metadata": {
        "id": "view-in-github",
        "colab_type": "text"
      },
      "source": [
        "<a href=\"https://colab.research.google.com/github/ROARMarketingConcepts/Cornell_ML_Course/blob/main/Numpy_Exercises.ipynb\" target=\"_parent\"><img src=\"https://colab.research.google.com/assets/colab-badge.svg\" alt=\"Open In Colab\"/></a>"
      ]
    },
    {
      "cell_type": "code",
      "execution_count": null,
      "metadata": {
        "id": "uUKLdLw5UmNT"
      },
      "outputs": [],
      "source": [
        "import numpy as np"
      ]
    },
    {
      "cell_type": "code",
      "source": [
        "X = np.array([[1,2,3],[4,5,6]])\n",
        "X, X.shape"
      ],
      "metadata": {
        "colab": {
          "base_uri": "https://localhost:8080/"
        },
        "id": "SrarbABTVRQe",
        "outputId": "51202ff5-1000-4a94-974c-18543fe3e604"
      },
      "execution_count": null,
      "outputs": [
        {
          "output_type": "execute_result",
          "data": {
            "text/plain": [
              "(array([[1, 2, 3],\n",
              "        [4, 5, 6]]),\n",
              " (2, 3))"
            ]
          },
          "metadata": {},
          "execution_count": 2
        }
      ]
    },
    {
      "cell_type": "code",
      "source": [
        "X.ndim, X.size"
      ],
      "metadata": {
        "colab": {
          "base_uri": "https://localhost:8080/"
        },
        "id": "pOrDJRZpVafI",
        "outputId": "b0fe4cbe-39e9-417d-bf5d-508645a75d40"
      },
      "execution_count": null,
      "outputs": [
        {
          "output_type": "execute_result",
          "data": {
            "text/plain": [
              "(2, 6)"
            ]
          },
          "metadata": {},
          "execution_count": 3
        }
      ]
    },
    {
      "cell_type": "code",
      "source": [
        "npvec = np.array([1,2,3])\n",
        "npvec.shape    #  the array is indexed by a single index from 0 to 2."
      ],
      "metadata": {
        "colab": {
          "base_uri": "https://localhost:8080/"
        },
        "id": "63jcMEY0VmnK",
        "outputId": "b5e4db17-4d44-4595-a4db-8f859b11057c"
      },
      "execution_count": null,
      "outputs": [
        {
          "output_type": "execute_result",
          "data": {
            "text/plain": [
              "(3,)"
            ]
          },
          "metadata": {},
          "execution_count": 4
        }
      ]
    },
    {
      "cell_type": "code",
      "source": [
        "colvec = npvec.reshape((3,1))\n",
        "colvec, colvec.shape"
      ],
      "metadata": {
        "colab": {
          "base_uri": "https://localhost:8080/"
        },
        "id": "L07TlPkDV748",
        "outputId": "8abfef13-aa1e-4ace-881d-cf9fb87dde8f"
      },
      "execution_count": null,
      "outputs": [
        {
          "output_type": "execute_result",
          "data": {
            "text/plain": [
              "(array([[1],\n",
              "        [2],\n",
              "        [3]]),\n",
              " (3, 1))"
            ]
          },
          "metadata": {},
          "execution_count": 5
        }
      ]
    },
    {
      "cell_type": "markdown",
      "source": [
        "#### Instructions\n",
        "\n",
        "1.   Create a NumPy vector $\\vec{v_1}$ that contains $([3,4,5])$ using the `np.array()` function.\n",
        "2.   `print()` the vector $\\vec{v_1}$ to confirm we’ve correctly created the vector.\n",
        "\n",
        "3. `print()` the vector’s shape `v1.shape`. We should find that its shape is $(3,)$\n",
        "\n",
        "4. Using the function `.reshape()`, reshape the $\\vec{v_1}$ NumPy vector into a column vector $\\vec{v_2}$  by changing the shape to $(3,1)$\n",
        "\n",
        "5. `print()` $\\vec{v_2}$  to confirm our data is stored in a column vector.\n",
        "\n",
        "6. Reshape the $\\vec{v_1}$ NumPy vector into a row vector $\\vec{v_3}$ by changing the shape to $(1,3)$.\n",
        "\n",
        "7. `print()` $\\vec{v_3}$ to confirm our data is stored in a row vector."
      ],
      "metadata": {
        "id": "_oIrTCEfWMav"
      }
    },
    {
      "cell_type": "code",
      "source": [
        "v1=np.array([3,4,5])\n",
        "v1,v1.shape"
      ],
      "metadata": {
        "colab": {
          "base_uri": "https://localhost:8080/"
        },
        "id": "-5y4VhXyfGxp",
        "outputId": "9455abe7-a9fd-42f4-d381-801232a91a83"
      },
      "execution_count": null,
      "outputs": [
        {
          "output_type": "execute_result",
          "data": {
            "text/plain": [
              "(array([3, 4, 5]), (3,))"
            ]
          },
          "metadata": {},
          "execution_count": 6
        }
      ]
    },
    {
      "cell_type": "code",
      "source": [
        "v2=v1.reshape(3,1)\n",
        "v2, v2.shape"
      ],
      "metadata": {
        "colab": {
          "base_uri": "https://localhost:8080/"
        },
        "id": "A3Sug5iSfW8e",
        "outputId": "99794489-31e4-4fc2-dcf5-ccb16b594678"
      },
      "execution_count": null,
      "outputs": [
        {
          "output_type": "execute_result",
          "data": {
            "text/plain": [
              "(array([[3],\n",
              "        [4],\n",
              "        [5]]),\n",
              " (3, 1))"
            ]
          },
          "metadata": {},
          "execution_count": 7
        }
      ]
    },
    {
      "cell_type": "code",
      "source": [
        "v3=v1.reshape(1,3)\n",
        "v3, v3.shape"
      ],
      "metadata": {
        "colab": {
          "base_uri": "https://localhost:8080/"
        },
        "id": "8sKoqtEvfkx7",
        "outputId": "d0273aab-e3c0-45cf-d330-2e0f1fb3ab27"
      },
      "execution_count": null,
      "outputs": [
        {
          "output_type": "execute_result",
          "data": {
            "text/plain": [
              "(array([[3, 4, 5]]), (1, 3))"
            ]
          },
          "metadata": {},
          "execution_count": 8
        }
      ]
    },
    {
      "cell_type": "code",
      "source": [
        "v1+v2  # v2 is not in the correct format, so the result is incorrect."
      ],
      "metadata": {
        "colab": {
          "base_uri": "https://localhost:8080/"
        },
        "id": "FaNDhcIaf9BM",
        "outputId": "37045f94-e525-4893-9fd3-6eedeb69584e"
      },
      "execution_count": null,
      "outputs": [
        {
          "output_type": "execute_result",
          "data": {
            "text/plain": [
              "array([[ 6,  7,  8],\n",
              "       [ 7,  8,  9],\n",
              "       [ 8,  9, 10]])"
            ]
          },
          "metadata": {},
          "execution_count": 9
        }
      ]
    },
    {
      "cell_type": "code",
      "source": [
        "v4=v2.flatten()\n",
        "v4, v4.shape"
      ],
      "metadata": {
        "colab": {
          "base_uri": "https://localhost:8080/"
        },
        "id": "1AzZyrj2gLZf",
        "outputId": "b30d6ad6-970c-486f-bfd9-d0d7c925c6a6"
      },
      "execution_count": null,
      "outputs": [
        {
          "output_type": "execute_result",
          "data": {
            "text/plain": [
              "(array([3, 4, 5]), (3,))"
            ]
          },
          "metadata": {},
          "execution_count": 10
        }
      ]
    },
    {
      "cell_type": "code",
      "source": [
        "v1+v4"
      ],
      "metadata": {
        "colab": {
          "base_uri": "https://localhost:8080/"
        },
        "id": "3gfq5lS7grKl",
        "outputId": "d83faa68-feb2-46b1-90ff-79db745200d1"
      },
      "execution_count": null,
      "outputs": [
        {
          "output_type": "execute_result",
          "data": {
            "text/plain": [
              "array([ 6,  8, 10])"
            ]
          },
          "metadata": {},
          "execution_count": 11
        }
      ]
    },
    {
      "cell_type": "markdown",
      "source": [
        "#### Creating Common Matrices\n",
        "There are also a few functions in NumPy for creating common matrices:\n",
        "\n",
        "`np.eye()` creates an identity matrix\n",
        "\n",
        "`np.zeros()` creates a matrix of all zeros\n",
        "\n",
        "`.arange()` creates a vector of equally spaced values"
      ],
      "metadata": {
        "id": "ZhozhTNng1K-"
      }
    },
    {
      "cell_type": "code",
      "source": [
        "np.eye(3), np.eye(5)"
      ],
      "metadata": {
        "colab": {
          "base_uri": "https://localhost:8080/"
        },
        "id": "sHboZBYnlpMx",
        "outputId": "27b314a4-dd45-4cb4-8406-c70496b89de3"
      },
      "execution_count": null,
      "outputs": [
        {
          "output_type": "execute_result",
          "data": {
            "text/plain": [
              "(array([[1., 0., 0.],\n",
              "        [0., 1., 0.],\n",
              "        [0., 0., 1.]]),\n",
              " array([[1., 0., 0., 0., 0.],\n",
              "        [0., 1., 0., 0., 0.],\n",
              "        [0., 0., 1., 0., 0.],\n",
              "        [0., 0., 0., 1., 0.],\n",
              "        [0., 0., 0., 0., 1.]]))"
            ]
          },
          "metadata": {},
          "execution_count": 12
        }
      ]
    },
    {
      "cell_type": "code",
      "source": [
        "np.arange(10), np.arange(1,10,2), np.arange(2,10,2)"
      ],
      "metadata": {
        "colab": {
          "base_uri": "https://localhost:8080/"
        },
        "id": "CgaYQteSlyc_",
        "outputId": "3fe1e2b2-6b02-424f-e9c0-f3ce37ec4711"
      },
      "execution_count": null,
      "outputs": [
        {
          "output_type": "execute_result",
          "data": {
            "text/plain": [
              "(array([0, 1, 2, 3, 4, 5, 6, 7, 8, 9]),\n",
              " array([1, 3, 5, 7, 9]),\n",
              " array([2, 4, 6, 8]))"
            ]
          },
          "metadata": {},
          "execution_count": 13
        }
      ]
    },
    {
      "cell_type": "markdown",
      "source": [
        "#### Multiplication\n",
        "\n",
        "To perform matrix multiplication, use `np.dot()` or the $@$ symbol. For example, we could multiply matrices $X$ and $Y$ by writing either `np.dot(X,Y)` or $X @ Y$."
      ],
      "metadata": {
        "id": "bwFDaO2smUIp"
      }
    },
    {
      "cell_type": "code",
      "source": [
        "X = np.array([[1,2], [3,4]])\n",
        "Y = np.array([[5,6],[7,8]])\n",
        "A = np.array([[1,2,3,4], [7,8,9,10]])\n",
        "B = np.array([[4,5,6,7], [1,2,3,4]])"
      ],
      "metadata": {
        "id": "RK8iY2qIm3d6"
      },
      "execution_count": null,
      "outputs": []
    },
    {
      "cell_type": "code",
      "source": [
        "X,Y,A,B"
      ],
      "metadata": {
        "colab": {
          "base_uri": "https://localhost:8080/"
        },
        "id": "mU976EnOm7wI",
        "outputId": "5d3ea2db-cbbc-437b-a900-3a7f55d69ff8"
      },
      "execution_count": null,
      "outputs": [
        {
          "output_type": "execute_result",
          "data": {
            "text/plain": [
              "(array([[1, 2],\n",
              "        [3, 4]]),\n",
              " array([[5, 6],\n",
              "        [7, 8]]),\n",
              " array([[ 1,  2,  3,  4],\n",
              "        [ 7,  8,  9, 10]]),\n",
              " array([[4, 5, 6, 7],\n",
              "        [1, 2, 3, 4]]))"
            ]
          },
          "metadata": {},
          "execution_count": 15
        }
      ]
    },
    {
      "cell_type": "code",
      "source": [
        "np.dot(X,Y)"
      ],
      "metadata": {
        "colab": {
          "base_uri": "https://localhost:8080/"
        },
        "id": "qYjiTEPsnCy4",
        "outputId": "4d32fcc1-dfcd-4875-a818-e9344584b105"
      },
      "execution_count": null,
      "outputs": [
        {
          "output_type": "execute_result",
          "data": {
            "text/plain": [
              "array([[19, 22],\n",
              "       [43, 50]])"
            ]
          },
          "metadata": {},
          "execution_count": 16
        }
      ]
    },
    {
      "cell_type": "code",
      "source": [
        "X@Y"
      ],
      "metadata": {
        "colab": {
          "base_uri": "https://localhost:8080/"
        },
        "id": "LaxPKhZknX0b",
        "outputId": "8859b8d7-fcfe-4b0d-f93c-46bdc141d4c7"
      },
      "execution_count": null,
      "outputs": [
        {
          "output_type": "execute_result",
          "data": {
            "text/plain": [
              "array([[19, 22],\n",
              "       [43, 50]])"
            ]
          },
          "metadata": {},
          "execution_count": 17
        }
      ]
    },
    {
      "cell_type": "code",
      "source": [
        "A@B  # matrices are mismatched dimensionally"
      ],
      "metadata": {
        "colab": {
          "base_uri": "https://localhost:8080/",
          "height": 174
        },
        "id": "9E7kSX68ngDy",
        "outputId": "aa17301d-7482-406c-f410-7c8ed324d05b"
      },
      "execution_count": null,
      "outputs": [
        {
          "output_type": "error",
          "ename": "ValueError",
          "evalue": "ignored",
          "traceback": [
            "\u001b[0;31m---------------------------------------------------------------------------\u001b[0m",
            "\u001b[0;31mValueError\u001b[0m                                Traceback (most recent call last)",
            "\u001b[0;32m<ipython-input-19-f5bd68206c84>\u001b[0m in \u001b[0;36m<cell line: 1>\u001b[0;34m()\u001b[0m\n\u001b[0;32m----> 1\u001b[0;31m \u001b[0mA\u001b[0m\u001b[0;34m@\u001b[0m\u001b[0mB\u001b[0m  \u001b[0;31m# matrices are mismatched dimensionally\u001b[0m\u001b[0;34m\u001b[0m\u001b[0;34m\u001b[0m\u001b[0m\n\u001b[0m",
            "\u001b[0;31mValueError\u001b[0m: matmul: Input operand 1 has a mismatch in its core dimension 0, with gufunc signature (n?,k),(k,m?)->(n?,m?) (size 2 is different from 4)"
          ]
        }
      ]
    },
    {
      "cell_type": "code",
      "source": [
        "A@B.T"
      ],
      "metadata": {
        "colab": {
          "base_uri": "https://localhost:8080/"
        },
        "id": "RXQwcF2nnnD_",
        "outputId": "9d348925-b341-4ec5-a741-20212a0cd9c7"
      },
      "execution_count": null,
      "outputs": [
        {
          "output_type": "execute_result",
          "data": {
            "text/plain": [
              "array([[ 60,  30],\n",
              "       [192,  90]])"
            ]
          },
          "metadata": {},
          "execution_count": 20
        }
      ]
    },
    {
      "cell_type": "code",
      "source": [
        "np.dot(A,np.transpose(B))"
      ],
      "metadata": {
        "colab": {
          "base_uri": "https://localhost:8080/"
        },
        "id": "O-fy4xrHntj6",
        "outputId": "a3ef1c55-ffc8-44d9-8ec3-eb2ad2e7ff0c"
      },
      "execution_count": null,
      "outputs": [
        {
          "output_type": "execute_result",
          "data": {
            "text/plain": [
              "array([[ 60,  30],\n",
              "       [192,  90]])"
            ]
          },
          "metadata": {},
          "execution_count": 21
        }
      ]
    },
    {
      "cell_type": "markdown",
      "source": [
        "Use NumPy to calculate:  $AB^T−Y$\n"
      ],
      "metadata": {
        "id": "As7_6j-Tn8N3"
      }
    },
    {
      "cell_type": "code",
      "source": [
        "A@B.T-Y"
      ],
      "metadata": {
        "colab": {
          "base_uri": "https://localhost:8080/"
        },
        "id": "JsVg4UFpoGKn",
        "outputId": "7e09ddb4-4904-45f4-b185-0fa38b421c7c"
      },
      "execution_count": null,
      "outputs": [
        {
          "output_type": "execute_result",
          "data": {
            "text/plain": [
              "array([[ 55,  24],\n",
              "       [185,  82]])"
            ]
          },
          "metadata": {},
          "execution_count": 22
        }
      ]
    },
    {
      "cell_type": "markdown",
      "source": [
        "#### Other Matrix Operations\n",
        "\n",
        "Other useful functions we will use in our projects are `np.amax()`, `np.amin()`, `np.argmax()`, `np.argmin()`, and `np.sum(X)`. With all of these functions, we can specify the axis along which we want to perform the operation. If no axis is specified, the functions will perform the operation across all dimensions. Here are some examples of these functions in use:\n",
        "\n",
        "Largest element in $X$: \t`np.amax(X)`\n",
        "\n",
        "Largest elements along the first axis: \t`np.amax(X, axis = 0)`\n",
        "\n",
        "Smallest element in $X$:\t`np.amin(X)`\n",
        "\n",
        "Smallest elements along the second axis:\t`np.amin(X, axis = 1)`\n",
        "\n",
        "Index of the smallest element in $X$:\t`np.argmin(X)`\n",
        "\n",
        "Indices of the largest elements along the first axis:\t`np.argmax(X, axis = 0)`\n",
        "\n",
        "Sum of all elements in $X$:\t`np.sum(X)`\n",
        "\n",
        "Sum of elements along the first axis:`np.sum(X, axis = 0)`\n",
        "\n",
        "Sort the matrix (in ascending order) along the last axis (axis=-1):\t`np.sort(D)`\n",
        "\n",
        "Sort the matrix along the first axis:\t`np.sort(D, axis=0)`\n",
        "\n",
        "Indices for sorting matrix (in ascending order) along the last axis (axis=-1):\t`np.argsort(D)`\n",
        "\n",
        "Indices for sorting matrix along the first axis:\t`np.argsort(D, axis=0)`\n"
      ],
      "metadata": {
        "id": "_tIsYBw1u65B"
      }
    },
    {
      "cell_type": "code",
      "source": [
        "Y"
      ],
      "metadata": {
        "colab": {
          "base_uri": "https://localhost:8080/"
        },
        "id": "H8jvFC0mDFuK",
        "outputId": "a4332491-f92a-49ed-8e46-c4eb20638787"
      },
      "execution_count": null,
      "outputs": [
        {
          "output_type": "execute_result",
          "data": {
            "text/plain": [
              "array([[5, 6],\n",
              "       [7, 8]])"
            ]
          },
          "metadata": {},
          "execution_count": 23
        }
      ]
    },
    {
      "cell_type": "code",
      "source": [
        "np.amax(Y)  # largest element in Y"
      ],
      "metadata": {
        "colab": {
          "base_uri": "https://localhost:8080/"
        },
        "id": "pgC2XaE5DJBZ",
        "outputId": "c6ab0a44-e1f7-4573-84bd-77cfd427ab5c"
      },
      "execution_count": null,
      "outputs": [
        {
          "output_type": "execute_result",
          "data": {
            "text/plain": [
              "8"
            ]
          },
          "metadata": {},
          "execution_count": 24
        }
      ]
    },
    {
      "cell_type": "code",
      "source": [
        "np.amin(Y, axis=0)"
      ],
      "metadata": {
        "colab": {
          "base_uri": "https://localhost:8080/"
        },
        "id": "peMnonGkDT8B",
        "outputId": "72cb1d27-a85c-4963-c6ec-b87d70f34514"
      },
      "execution_count": null,
      "outputs": [
        {
          "output_type": "execute_result",
          "data": {
            "text/plain": [
              "array([5, 6])"
            ]
          },
          "metadata": {},
          "execution_count": 25
        }
      ]
    },
    {
      "cell_type": "code",
      "source": [
        "np.amin(Y, axis=1)"
      ],
      "metadata": {
        "colab": {
          "base_uri": "https://localhost:8080/"
        },
        "id": "7KEgXTNrDhu5",
        "outputId": "a6edc741-b86e-4dc1-8e6d-c6234f10839e"
      },
      "execution_count": null,
      "outputs": [
        {
          "output_type": "execute_result",
          "data": {
            "text/plain": [
              "array([5, 7])"
            ]
          },
          "metadata": {},
          "execution_count": 26
        }
      ]
    },
    {
      "cell_type": "code",
      "source": [
        "np.argmax(Y,axis=0)"
      ],
      "metadata": {
        "colab": {
          "base_uri": "https://localhost:8080/"
        },
        "id": "SVIBeLGnDxrt",
        "outputId": "053f795e-23f3-4713-dc1d-018ebfec50c4"
      },
      "execution_count": null,
      "outputs": [
        {
          "output_type": "execute_result",
          "data": {
            "text/plain": [
              "array([1, 1])"
            ]
          },
          "metadata": {},
          "execution_count": 27
        }
      ]
    },
    {
      "cell_type": "code",
      "source": [
        "np.argmax(Y,axis=1)"
      ],
      "metadata": {
        "colab": {
          "base_uri": "https://localhost:8080/"
        },
        "id": "yW8poo0xEKC1",
        "outputId": "52b2e2ef-ec8d-4e3e-a562-a7b33b46a927"
      },
      "execution_count": null,
      "outputs": [
        {
          "output_type": "execute_result",
          "data": {
            "text/plain": [
              "array([1, 1])"
            ]
          },
          "metadata": {},
          "execution_count": 28
        }
      ]
    },
    {
      "cell_type": "code",
      "source": [
        "np.argmin(Y,axis=0)"
      ],
      "metadata": {
        "colab": {
          "base_uri": "https://localhost:8080/"
        },
        "id": "_7ZRc2c2EU0b",
        "outputId": "9be83ade-d2a8-42ce-b750-cc1c25eb0d21"
      },
      "execution_count": null,
      "outputs": [
        {
          "output_type": "execute_result",
          "data": {
            "text/plain": [
              "array([0, 0])"
            ]
          },
          "metadata": {},
          "execution_count": 29
        }
      ]
    },
    {
      "cell_type": "code",
      "source": [
        "np.argmin(Y,axis=1)"
      ],
      "metadata": {
        "colab": {
          "base_uri": "https://localhost:8080/"
        },
        "id": "2WDhZQSfEYLv",
        "outputId": "03e08f6e-3675-44ba-bc6f-c5cfdffd10bb"
      },
      "execution_count": null,
      "outputs": [
        {
          "output_type": "execute_result",
          "data": {
            "text/plain": [
              "array([0, 0])"
            ]
          },
          "metadata": {},
          "execution_count": 30
        }
      ]
    },
    {
      "cell_type": "code",
      "source": [
        "np.sum(Y,axis=0)"
      ],
      "metadata": {
        "colab": {
          "base_uri": "https://localhost:8080/"
        },
        "id": "-pt8Kul8Eh0o",
        "outputId": "2f6e76ae-1cde-4beb-9977-f66fff534f90"
      },
      "execution_count": null,
      "outputs": [
        {
          "output_type": "execute_result",
          "data": {
            "text/plain": [
              "array([12, 14])"
            ]
          },
          "metadata": {},
          "execution_count": 31
        }
      ]
    },
    {
      "cell_type": "code",
      "source": [
        "np.sum(Y,axis=1)"
      ],
      "metadata": {
        "colab": {
          "base_uri": "https://localhost:8080/"
        },
        "id": "jjNc_FWfEtgX",
        "outputId": "ea853068-2423-4aed-fca4-9010f3ee8b0e"
      },
      "execution_count": null,
      "outputs": [
        {
          "output_type": "execute_result",
          "data": {
            "text/plain": [
              "array([11, 15])"
            ]
          },
          "metadata": {},
          "execution_count": 32
        }
      ]
    },
    {
      "cell_type": "code",
      "source": [
        "np.sort(Y,axis=-1)"
      ],
      "metadata": {
        "colab": {
          "base_uri": "https://localhost:8080/"
        },
        "id": "MZ91knqPFDlV",
        "outputId": "92361747-db60-425f-9cf1-6f81678789a8"
      },
      "execution_count": null,
      "outputs": [
        {
          "output_type": "execute_result",
          "data": {
            "text/plain": [
              "array([[5, 6],\n",
              "       [7, 8]])"
            ]
          },
          "metadata": {},
          "execution_count": 33
        }
      ]
    },
    {
      "cell_type": "markdown",
      "source": [
        "#### Find Multiple Smallest Values\n",
        "\n",
        "We learned how to find the index for the smallest value for each row in a matrix. We might need the $n$ lowest values in a row rather than simply the lowest. In this exercise, we will find the three smallest values for each row in a matrix. This is useful when we are implementing $k$ nearest neighbors, when $k>=1$."
      ],
      "metadata": {
        "id": "56cGklQzW0ra"
      }
    },
    {
      "cell_type": "code",
      "source": [
        "D = np.array([[1, 4, 8, 5],[4, 8, 2, 9],[2, 0, 4, 5]])\n",
        "D"
      ],
      "metadata": {
        "colab": {
          "base_uri": "https://localhost:8080/"
        },
        "id": "fDNHZ3g3XdeL",
        "outputId": "36871d50-ae48-4fa1-a118-e632d6d21521"
      },
      "execution_count": null,
      "outputs": [
        {
          "output_type": "execute_result",
          "data": {
            "text/plain": [
              "array([[1, 4, 8, 5],\n",
              "       [4, 8, 2, 9],\n",
              "       [2, 0, 4, 5]])"
            ]
          },
          "metadata": {},
          "execution_count": 34
        }
      ]
    },
    {
      "cell_type": "markdown",
      "source": [
        "Find the indexes for the three lowest values for each row."
      ],
      "metadata": {
        "id": "6wurUcUyXvsf"
      }
    },
    {
      "cell_type": "code",
      "source": [
        "sorted = np.argsort(D, axis=1)\n",
        "sorted"
      ],
      "metadata": {
        "colab": {
          "base_uri": "https://localhost:8080/"
        },
        "id": "TErmAhKGXmsg",
        "outputId": "18afc23a-74ef-482a-8eda-9bde000b64a9"
      },
      "execution_count": null,
      "outputs": [
        {
          "output_type": "execute_result",
          "data": {
            "text/plain": [
              "array([[0, 1, 3, 2],\n",
              "       [2, 0, 1, 3],\n",
              "       [1, 0, 2, 3]])"
            ]
          },
          "metadata": {},
          "execution_count": 35
        }
      ]
    },
    {
      "cell_type": "code",
      "source": [
        "sorted = sorted[:,:3]\n",
        "sorted"
      ],
      "metadata": {
        "colab": {
          "base_uri": "https://localhost:8080/"
        },
        "id": "snwEt9ONY6UF",
        "outputId": "4555b635-bd80-4bf5-be32-80d76002d1e3"
      },
      "execution_count": null,
      "outputs": [
        {
          "output_type": "execute_result",
          "data": {
            "text/plain": [
              "array([[0, 1, 3],\n",
              "       [2, 0, 1],\n",
              "       [1, 0, 2]])"
            ]
          },
          "metadata": {},
          "execution_count": 36
        }
      ]
    },
    {
      "cell_type": "markdown",
      "source": [
        "Also,"
      ],
      "metadata": {
        "id": "nTrJVuvJZSOP"
      }
    },
    {
      "cell_type": "code",
      "source": [
        "sorted = np.argsort(D, axis=1)[:,:3]\n",
        "sorted"
      ],
      "metadata": {
        "colab": {
          "base_uri": "https://localhost:8080/"
        },
        "id": "M1yZ-igAZRSa",
        "outputId": "833a03bc-f4f5-4b18-8cb1-4ffcf50e1a95"
      },
      "execution_count": null,
      "outputs": [
        {
          "output_type": "execute_result",
          "data": {
            "text/plain": [
              "array([[0, 1, 3],\n",
              "       [2, 0, 1],\n",
              "       [1, 0, 2]])"
            ]
          },
          "metadata": {},
          "execution_count": 37
        }
      ]
    },
    {
      "cell_type": "markdown",
      "source": [
        "#### Adding Columns and Rows to Matrices\n",
        "\n",
        "The `np.vstack` and `np.hstack` functions can be used to add columns or rows to existing matrices."
      ],
      "metadata": {
        "id": "4bpFiLPXcZYK"
      }
    },
    {
      "cell_type": "code",
      "source": [
        "X,Y"
      ],
      "metadata": {
        "colab": {
          "base_uri": "https://localhost:8080/"
        },
        "id": "FbI4Zoo0cvb0",
        "outputId": "04ca3adf-2461-4131-fe92-0279d9e42883"
      },
      "execution_count": null,
      "outputs": [
        {
          "output_type": "execute_result",
          "data": {
            "text/plain": [
              "(array([[1, 2],\n",
              "        [3, 4]]),\n",
              " array([[5, 6],\n",
              "        [7, 8]]))"
            ]
          },
          "metadata": {},
          "execution_count": 38
        }
      ]
    },
    {
      "cell_type": "code",
      "source": [
        "np.vstack((X,Y)), np.vstack((Y,X))"
      ],
      "metadata": {
        "colab": {
          "base_uri": "https://localhost:8080/"
        },
        "id": "nUMD75bVc5DZ",
        "outputId": "510f2450-8068-4b3a-97a4-275e040d8e5e"
      },
      "execution_count": null,
      "outputs": [
        {
          "output_type": "execute_result",
          "data": {
            "text/plain": [
              "(array([[1, 2],\n",
              "        [3, 4],\n",
              "        [5, 6],\n",
              "        [7, 8]]),\n",
              " array([[5, 6],\n",
              "        [7, 8],\n",
              "        [1, 2],\n",
              "        [3, 4]]))"
            ]
          },
          "metadata": {},
          "execution_count": 39
        }
      ]
    },
    {
      "cell_type": "code",
      "source": [
        "np.hstack((X,Y)), np.hstack((Y,X))"
      ],
      "metadata": {
        "colab": {
          "base_uri": "https://localhost:8080/"
        },
        "id": "qzTMrPbAdNmw",
        "outputId": "856dcf1c-0214-42f9-dc6c-a0c9878e207d"
      },
      "execution_count": null,
      "outputs": [
        {
          "output_type": "execute_result",
          "data": {
            "text/plain": [
              "(array([[1, 2, 5, 6],\n",
              "        [3, 4, 7, 8]]),\n",
              " array([[5, 6, 1, 2],\n",
              "        [7, 8, 3, 4]]))"
            ]
          },
          "metadata": {},
          "execution_count": 40
        }
      ]
    },
    {
      "cell_type": "markdown",
      "source": [
        "**Exercise:** Find the maximum elements in $A$ along the first axis `(axis = 0)` and add it to the sum of elements in $B$ along the first axis."
      ],
      "metadata": {
        "id": "qzOF_gs0ddhu"
      }
    },
    {
      "cell_type": "code",
      "source": [
        "maxA=np.max(A,axis=0)\n",
        "A, maxA"
      ],
      "metadata": {
        "colab": {
          "base_uri": "https://localhost:8080/"
        },
        "id": "1Hct8GX4dxBH",
        "outputId": "c2b5ae0f-ce03-4bba-fe2b-08e45e87a286"
      },
      "execution_count": null,
      "outputs": [
        {
          "output_type": "execute_result",
          "data": {
            "text/plain": [
              "(array([[ 1,  2,  3,  4],\n",
              "        [ 7,  8,  9, 10]]),\n",
              " array([ 7,  8,  9, 10]))"
            ]
          },
          "metadata": {},
          "execution_count": 41
        }
      ]
    },
    {
      "cell_type": "code",
      "source": [
        "B"
      ],
      "metadata": {
        "colab": {
          "base_uri": "https://localhost:8080/"
        },
        "id": "RgP4KMSdeqbB",
        "outputId": "a8e4b368-1a08-4d84-c357-fb6609ed2ed9"
      },
      "execution_count": null,
      "outputs": [
        {
          "output_type": "execute_result",
          "data": {
            "text/plain": [
              "array([[4, 5, 6, 7],\n",
              "       [1, 2, 3, 4]])"
            ]
          },
          "metadata": {},
          "execution_count": 42
        }
      ]
    },
    {
      "cell_type": "code",
      "source": [
        "result=np.sum(np.vstack((maxA,B)),axis=0)\n",
        "result"
      ],
      "metadata": {
        "colab": {
          "base_uri": "https://localhost:8080/"
        },
        "id": "CAJJFXX6ebXP",
        "outputId": "3afac485-dd61-4c81-dd77-269b465ae123"
      },
      "execution_count": null,
      "outputs": [
        {
          "output_type": "execute_result",
          "data": {
            "text/plain": [
              "array([12, 15, 18, 21])"
            ]
          },
          "metadata": {},
          "execution_count": 43
        }
      ]
    },
    {
      "cell_type": "markdown",
      "source": [
        "#### Element-wise Matrix Operations\n",
        "\n",
        "There are many operations that we might want to perform, such as taking the square root or exponent on each element of a NumPy array. Some examples of these functions are `np.exp()`, `np.sqrt()`, and `np.square()`. There are many NumPy functions that will perform element-wise operations on NumPy arrays. Refer to the official documentation for more information.\n"
      ],
      "metadata": {
        "id": "E8d9pZ8zfBB9"
      }
    },
    {
      "cell_type": "code",
      "source": [
        "Z=np.arange(0,10,1)\n",
        "Z"
      ],
      "metadata": {
        "colab": {
          "base_uri": "https://localhost:8080/"
        },
        "id": "25muoGUXfxUu",
        "outputId": "b8f0500b-0ddf-4765-be18-4ff283aa3ca7"
      },
      "execution_count": null,
      "outputs": [
        {
          "output_type": "execute_result",
          "data": {
            "text/plain": [
              "array([0, 1, 2, 3, 4, 5, 6, 7, 8, 9])"
            ]
          },
          "metadata": {},
          "execution_count": 44
        }
      ]
    },
    {
      "cell_type": "code",
      "source": [
        "np.exp(Z)"
      ],
      "metadata": {
        "colab": {
          "base_uri": "https://localhost:8080/"
        },
        "id": "TR6K3WMHgvVI",
        "outputId": "b8124028-72f8-46b2-a349-2bb322ff251c"
      },
      "execution_count": null,
      "outputs": [
        {
          "output_type": "execute_result",
          "data": {
            "text/plain": [
              "array([1.00000000e+00, 2.71828183e+00, 7.38905610e+00, 2.00855369e+01,\n",
              "       5.45981500e+01, 1.48413159e+02, 4.03428793e+02, 1.09663316e+03,\n",
              "       2.98095799e+03, 8.10308393e+03])"
            ]
          },
          "metadata": {},
          "execution_count": 45
        }
      ]
    },
    {
      "cell_type": "code",
      "source": [
        "np.sqrt(Z)"
      ],
      "metadata": {
        "colab": {
          "base_uri": "https://localhost:8080/"
        },
        "id": "s2QqXhqNg-yL",
        "outputId": "2913c319-1cdd-4b02-f5a7-c2168197535d"
      },
      "execution_count": null,
      "outputs": [
        {
          "output_type": "execute_result",
          "data": {
            "text/plain": [
              "array([0.        , 1.        , 1.41421356, 1.73205081, 2.        ,\n",
              "       2.23606798, 2.44948974, 2.64575131, 2.82842712, 3.        ])"
            ]
          },
          "metadata": {},
          "execution_count": 46
        }
      ]
    },
    {
      "cell_type": "code",
      "source": [
        "np.square(Z)"
      ],
      "metadata": {
        "colab": {
          "base_uri": "https://localhost:8080/"
        },
        "id": "g-DfEsDqhGQJ",
        "outputId": "8e517746-dd2e-4813-f30a-fec31d9e8f35"
      },
      "execution_count": null,
      "outputs": [
        {
          "output_type": "execute_result",
          "data": {
            "text/plain": [
              "array([ 0,  1,  4,  9, 16, 25, 36, 49, 64, 81])"
            ]
          },
          "metadata": {},
          "execution_count": 47
        }
      ]
    },
    {
      "cell_type": "markdown",
      "source": [
        "#### Indexing and Slicing\n",
        "\n",
        "NumPy arrays can be indexed and sliced, just like Python’s list. Let’s explore indexing and slicing on 1-D and multidimensional arrays."
      ],
      "metadata": {
        "id": "EnMh5dethchB"
      }
    },
    {
      "cell_type": "code",
      "source": [
        "x1 = np.arange(2,12,2)\n",
        "x1, x1[3], x1[1:3], x1[-2:]"
      ],
      "metadata": {
        "colab": {
          "base_uri": "https://localhost:8080/"
        },
        "id": "cgj3U3CAhs4f",
        "outputId": "4ed4575e-4164-4954-8acc-f75969e6b26c"
      },
      "execution_count": null,
      "outputs": [
        {
          "output_type": "execute_result",
          "data": {
            "text/plain": [
              "(array([ 2,  4,  6,  8, 10]), 8, array([4, 6]), array([ 8, 10]))"
            ]
          },
          "metadata": {},
          "execution_count": 48
        }
      ]
    },
    {
      "cell_type": "code",
      "source": [
        "type(x1[3]), type(x1[1:3])"
      ],
      "metadata": {
        "colab": {
          "base_uri": "https://localhost:8080/"
        },
        "id": "_1QAc8T-h6AT",
        "outputId": "b3757d4f-39bf-42bd-f8f6-ccee5d2e05c0"
      },
      "execution_count": null,
      "outputs": [
        {
          "output_type": "execute_result",
          "data": {
            "text/plain": [
              "(numpy.int64, numpy.ndarray)"
            ]
          },
          "metadata": {},
          "execution_count": 49
        }
      ]
    },
    {
      "cell_type": "code",
      "source": [
        "x2 = np.array([[1,2,3], [4,5,6], [7,8,9]])\n",
        "x2"
      ],
      "metadata": {
        "colab": {
          "base_uri": "https://localhost:8080/"
        },
        "id": "KlEC982ZisKl",
        "outputId": "4f408544-c55d-411c-f117-61be492ec942"
      },
      "execution_count": null,
      "outputs": [
        {
          "output_type": "execute_result",
          "data": {
            "text/plain": [
              "array([[1, 2, 3],\n",
              "       [4, 5, 6],\n",
              "       [7, 8, 9]])"
            ]
          },
          "metadata": {},
          "execution_count": 50
        }
      ]
    },
    {
      "cell_type": "code",
      "source": [
        "x2[::],x2[0,2]"
      ],
      "metadata": {
        "colab": {
          "base_uri": "https://localhost:8080/"
        },
        "id": "UToQWvI1kKkw",
        "outputId": "7c97f5b5-d4ba-494d-c51c-abec1f7048dc"
      },
      "execution_count": null,
      "outputs": [
        {
          "output_type": "execute_result",
          "data": {
            "text/plain": [
              "(array([[1, 2, 3],\n",
              "        [4, 5, 6],\n",
              "        [7, 8, 9]]),\n",
              " 3)"
            ]
          },
          "metadata": {},
          "execution_count": 51
        }
      ]
    },
    {
      "cell_type": "code",
      "source": [
        "x2[1:,:2],x2[0],x2[:,0]"
      ],
      "metadata": {
        "colab": {
          "base_uri": "https://localhost:8080/"
        },
        "id": "mIumz0Spj4ps",
        "outputId": "cba605a7-a6a8-44cf-c788-c7b11b16cc1e"
      },
      "execution_count": null,
      "outputs": [
        {
          "output_type": "execute_result",
          "data": {
            "text/plain": [
              "(array([[4, 5],\n",
              "        [7, 8]]),\n",
              " array([1, 2, 3]),\n",
              " array([1, 4, 7]))"
            ]
          },
          "metadata": {},
          "execution_count": 52
        }
      ]
    },
    {
      "cell_type": "code",
      "source": [
        "for row in x2:\n",
        "  print(row)"
      ],
      "metadata": {
        "colab": {
          "base_uri": "https://localhost:8080/"
        },
        "id": "Wtchw9dckcnn",
        "outputId": "7e41ae20-4584-4dc7-875a-30e7156cbfb4"
      },
      "execution_count": null,
      "outputs": [
        {
          "output_type": "stream",
          "name": "stdout",
          "text": [
            "[1 2 3]\n",
            "[4 5 6]\n",
            "[7 8 9]\n"
          ]
        }
      ]
    },
    {
      "cell_type": "markdown",
      "source": [
        "**Exercise:** Return only the third and fourth column of matrix $A$"
      ],
      "metadata": {
        "id": "gOpL9MuFk3wM"
      }
    },
    {
      "cell_type": "code",
      "source": [
        "A"
      ],
      "metadata": {
        "colab": {
          "base_uri": "https://localhost:8080/"
        },
        "id": "1t52nsR3lBCH",
        "outputId": "4dc06942-19ee-4aa0-b347-ecb3dfffd82f"
      },
      "execution_count": null,
      "outputs": [
        {
          "output_type": "execute_result",
          "data": {
            "text/plain": [
              "array([[ 1,  2,  3,  4],\n",
              "       [ 7,  8,  9, 10]])"
            ]
          },
          "metadata": {},
          "execution_count": 54
        }
      ]
    },
    {
      "cell_type": "code",
      "source": [
        "A[:,2:4]"
      ],
      "metadata": {
        "colab": {
          "base_uri": "https://localhost:8080/"
        },
        "id": "o39Dv3vDlGQR",
        "outputId": "b538abf0-e61b-4e0e-de26-66f142215496"
      },
      "execution_count": null,
      "outputs": [
        {
          "output_type": "execute_result",
          "data": {
            "text/plain": [
              "array([[ 3,  4],\n",
              "       [ 9, 10]])"
            ]
          },
          "metadata": {},
          "execution_count": 55
        }
      ]
    }
  ]
}