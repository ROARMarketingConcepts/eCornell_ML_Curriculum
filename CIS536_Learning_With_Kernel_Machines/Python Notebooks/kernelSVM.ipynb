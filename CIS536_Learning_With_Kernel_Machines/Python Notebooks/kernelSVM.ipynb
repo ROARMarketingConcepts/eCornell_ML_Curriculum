{
 "cells": [
  {
   "cell_type": "markdown",
   "metadata": {
    "deletable": false,
    "editable": false,
    "nbgrader": {
     "checksum": "34d5b2d4ea2f6f8e5416f6641c6b7cdf",
     "grade": false,
     "grade_id": "cell-4b701dc3a4f35e70",
     "locked": true,
     "schema_version": 1,
     "solution": false
    }
   },
   "source": [
    "<h2>About this Project</h2>\n",
    "<p>In this project, you will implement a kernelized SVM. You will generate linearly separable and non-linearly separable datasets, write kernel, loss, and gradient functions for SVMs that support a variety of different kernels, and then visualize the decision boundary created.</p>\n",
    "\n",
    "<h3>Evaluation</h3>\n",
    "\n",
    "<p><strong>This project must be successfully completed and submitted in order to receive credit for this course. Your score on this project will be included in your final grade calculation.</strong><p>\n",
    "    \n",
    "<p>You are expected to write code where you see <em># YOUR CODE HERE</em> within the cells of this notebook. Not all cells will be graded; code input cells followed by cells marked with <em>#Autograder test cell</em> will be graded. Upon submitting your work, the code you write at these designated positions will be assessed using an \"autograder\" that will run all test cells to assess your code. You will receive feedback from the autograder that will identify any errors in your code. Use this feedback to improve your code if you need to resubmit. Be sure not to change the names of any provided functions, classes, or variables within the existing code cells, as this will interfere with the autograder. Also, remember to execute all code cells sequentially, not just those you’ve edited, to ensure your code runs properly.</p>\n",
    "    \n",
    "<p>You can resubmit your work as many times as necessary before the submission deadline. If you experience difficulty or have questions about this exercise, use the Q&A discussion board to engage with your peers or seek assistance from the instructor.<p>\n",
    "\n",
    "<p>Before starting your work, please review <a href=\"https://s3.amazonaws.com/ecornell/global/eCornellPlagiarismPolicy.pdf\">eCornell's policy regarding plagiarism</a> (the presentation of someone else's work as your own without source credit).</p>\n",
    "\n",
    "<h3>Submit Code for Autograder Feedback</h3>\n",
    "\n",
    "<p>Once you have completed your work on this notebook, you will submit your code for autograder review. Follow these steps:</p>\n",
    "\n",
    "<ol>\n",
    "  <li><strong>Save your notebook.</strong></li>\n",
    "  <li><strong>Mark as Completed —</strong> In the blue menu bar along the top of this code exercise window, you’ll see a menu item called <strong>Education</strong>. In the <strong>Education</strong> menu, click <strong>Mark as Completed</strong> to submit your code for autograder/instructor review. This process will take a moment and a progress bar will show you the status of your submission.</li>\n",
    "\t<li><strong>Review your results —</strong> Once your work is marked as complete, the results of the autograder will automatically be presented in a new tab within the code exercise window. You can click on the assessment name in this feedback window to see more details regarding specific feedback/errors in your code submission.</li>\n",
    "  <li><strong>Repeat, if necessary —</strong> The Jupyter notebook will always remain accessible in the first tabbed window of the exercise. To reattempt the work, you will first need to click <strong>Mark as Uncompleted</strong> in the <strong>Education</strong> menu and then proceed to make edits to the notebook. Once you are ready to resubmit, follow steps one through three. You can repeat this procedure as many times as necessary.</li>\n",
    "<p>You can also download a copy of this notebook in multiple formats using the <strong>Download as</strong> option in the <strong>File</strong> menu above.</p>"
   ]
  },
  {
   "cell_type": "markdown",
   "metadata": {
    "deletable": false,
    "editable": false,
    "nbgrader": {
     "checksum": "ff9bcc68e530d02a3fcd7602643867f3",
     "grade": false,
     "grade_id": "cell-eae09070d6ddfc3f",
     "locked": true,
     "schema_version": 1,
     "solution": false
    }
   },
   "source": [
    "<h2>Getting Started</h2>\n",
    "<h3>Python Initialization</h3> \n",
    "\n",
    "Please run the following code to initialize your Python kernel. You should be running a version of Python 3.x. </p>"
   ]
  },
  {
   "cell_type": "code",
   "execution_count": 1,
   "metadata": {
    "deletable": false,
    "editable": false,
    "nbgrader": {
     "checksum": "30ea34e09ce2fe95d9ffdd861a036f3e",
     "grade": false,
     "grade_id": "cell-6da27a81ca807569",
     "locked": true,
     "schema_version": 1,
     "solution": false
    }
   },
   "outputs": [
    {
     "name": "stdout",
     "output_type": "stream",
     "text": [
      "You're running python 3.6.8\n"
     ]
    }
   ],
   "source": [
    "import numpy as np\n",
    "from helper import *\n",
    "import matplotlib.pyplot as plt\n",
    "import sys\n",
    "\n",
    "print('You\\'re running python %s' % sys.version.split(' ')[0])"
   ]
  },
  {
   "cell_type": "markdown",
   "metadata": {
    "deletable": false,
    "editable": false,
    "nbgrader": {
     "checksum": "df85ab06febb88b65c6c77c8f2bcef49",
     "grade": false,
     "grade_id": "cell-38378dba31605ea0",
     "locked": true,
     "schema_version": 1,
     "solution": false
    }
   },
   "source": [
    "### Generate and Visualize Data\n",
    "\n",
    "Before we start, let's generate some data and visualize the training set. We are going to use the linearly separable data that we used in our previous project!"
   ]
  },
  {
   "cell_type": "code",
   "execution_count": 2,
   "metadata": {},
   "outputs": [
    {
     "data": {
      "image/png": "[encoded data removed]",
      "text/plain": [
       "<Figure size 432x288 with 1 Axes>"
      ]
     },
     "metadata": {
      "needs_background": "light"
     },
     "output_type": "display_data"
    }
   ],
   "source": [
    "%matplotlib inline\n",
    "xTr,yTr = generate_data()\n",
    "visualize_2D(xTr, yTr)"
   ]
  },
  {
   "cell_type": "markdown",
   "metadata": {
    "deletable": false,
    "editable": false,
    "nbgrader": {
     "checksum": "5a5f4cbc111f74157ce0ba738b8626e8",
     "grade": false,
     "grade_id": "cell-cf03c1184a70b0d9",
     "locked": true,
     "schema_version": 1,
     "solution": false
    }
   },
   "source": [
    "## Kernel SVM\n",
    "\n",
    "In this assignment, you need to implement three functions:\n",
    "1. `computeK` that computes the kernel function efficiently,\n",
    "2. `loss` that calculates the kernelized version of the unconstrained squared hinge loss and the regularizer, and\n",
    "3. `grad` that calculates the gradients of the loss with respect to the kernel SVM's model parameters."
   ]
  },
  {
   "cell_type": "markdown",
   "metadata": {
    "deletable": false,
    "editable": false,
    "nbgrader": {
     "checksum": "a4febfd5340b31a5702c0f88e0614651",
     "grade": false,
     "grade_id": "cell-8b5ccbfcfd7f1d35",
     "locked": true,
     "schema_version": 1,
     "solution": false
    }
   },
   "source": [
    "### Part One: Compute K [Graded]\n",
    "\n",
    "In **`computeK`**, calculate the values of different kernel functions given inputs `X` and `Z`. You will return a matrix $\\mathsf{K}$ such that the entry $\\mathsf{K}_{ij} = \\mathsf{K} \\left( \\mathbf{x}_i, \\mathbf{z}_j \\right)$ where $\\mathsf{K} \\left( \\mathbf{x}_i, \\mathbf{z}_j \\right) = \\phi \\left( \\mathbf{x}_i \\right)^\\top \\phi \\left(\\mathbf{z}_j \\right)$. As you have seen so far, computing $\\phi \\left(\\mathbf{x}_i \\right)$ and $\\phi \\left(\\mathbf{z}_j \\right)$ explicitly and taking the dot product can be computationally expensive. Consequently, we will use the dot product expression $\\mathsf{K} \\left( \\mathbf{x}_i, \\mathbf{z}_j \\right)$ without ever computing $\\phi \\left(\\mathbf{x}_i \\right)$ and $ \\phi \\left(\\mathbf{z}_j \\right)$.\n",
    "\n",
    "`computeK` takes in the parameter `kerneltype` to decide which of the three different kernel functions to calculate:\n",
    "- `kerneltype == 'linear'`: $\\mathsf{K} (\\mathbf{X}, \\mathbf{Z}) = \\mathbf{X}^\\top \\mathbf{Z}$\n",
    "- `kerneltype == 'polynomial'`: $\\mathsf{K} (\\mathbf{X}, \\mathbf{Z}) = \\left( 1 + \\mathbf{X}^\\top \\mathbf{Z} \\right)^{p}$ where `kpar = p`\n",
    "- `kerneltype == 'rbf'`: $\\mathsf{K} (\\mathbf{X}, \\mathbf{Z}) = e^{-\\frac{||\\mathbf{X}-\\mathbf{Z}||^2}{\\sigma^2}}$ where `kpar` = $\\frac{1}{\\sigma^2}$\n",
    "\n",
    "**Implementation Notes:**\n",
    "- When calculating the RBF kernel, you can use the `l2distance(X, Z)` function that we have provided to you. It calculates the pairwise L2 distance $||\\mathbf{X} - \\mathbf{Z}||$ efficiently.\n",
    "- [`np.power(a, p)`](https://numpy.org/doc/stable/reference/generated/numpy.power.html) raises all entries of the vector or matrix `a` to the power `p`."
   ]
  },
  {
   "cell_type": "code",
   "execution_count": 3,
   "metadata": {
    "deletable": false,
    "nbgrader": {
     "checksum": "cd862b5b6d35a8d6de551501fa15ac8a",
     "grade": false,
     "grade_id": "cell-computeK",
     "locked": false,
     "schema_version": 1,
     "solution": true
    }
   },
   "outputs": [],
   "source": [
    "def computeK(kerneltype, X, Z, kpar=1):\n",
    "    \"\"\"\n",
    "    Computes a matrix K such that K[i, j] = K(x_i, z_j). The kernel operation is defined by kerneltype with parameter kpar.\n",
    "\n",
    "    Input:\n",
    "        kerneltype: either of ['linear', 'polynomial', 'rbf']\n",
    "        X: nxd data matrix\n",
    "        Z: mxd data matrix\n",
    "        kpar: kernel parameter (inverse sigma^2 in case of 'rbf', degree p in case of 'polynomial')\n",
    "\n",
    "    Output:\n",
    "        K : nxm kernel matrix\n",
    "    \"\"\"\n",
    "    assert kerneltype in ['linear', 'polynomial', 'rbf'], 'Kernel type %s not known.' % kerneltype\n",
    "    assert X.shape[1] == Z.shape[1], 'Input dimensions do not match'\n",
    "\n",
    "    K = None\n",
    "\n",
    "    # YOUR CODE HERE\n",
    "    \n",
    "    if kerneltype =='linear':\n",
    "        K=np.dot(X,Z.T)\n",
    "        \n",
    "    elif kerneltype=='polynomial':\n",
    "        K=np.power(1+np.dot(X,Z.T), kpar)\n",
    "        \n",
    "    elif kerneltype=='rbf':\n",
    "        K=np.exp(-np.power(l2distance(X,Z),2)*kpar)\n",
    "        \n",
    "    return K\n",
    "    \n",
    "    # raise NotImplementedError()"
   ]
  },
  {
   "cell_type": "markdown",
   "metadata": {},
   "source": [
    "### Let's re-create `computeK_test4`..."
   ]
  },
  {
   "cell_type": "code",
   "execution_count": 4,
   "metadata": {},
   "outputs": [
    {
     "data": {
      "text/plain": [
       "(100, 2, 50, 2)"
      ]
     },
     "execution_count": 4,
     "metadata": {},
     "output_type": "execute_result"
    }
   ],
   "source": [
    "xTr_test, yTr_test = generate_data(100)\n",
    "xTr_test2, yTr_test2 = generate_data(50)\n",
    "n1, d1 = xTr_test.shape\n",
    "n2, d2 = xTr_test2.shape\n",
    "n1,d1, n2,d2"
   ]
  },
  {
   "cell_type": "code",
   "execution_count": 5,
   "metadata": {},
   "outputs": [
    {
     "data": {
      "text/plain": [
       "array([[6.96623269e-01, 8.71630019e-01, 7.40309846e-01, ...,\n",
       "        2.90874937e-24, 3.92794184e-09, 1.49974513e-13],\n",
       "       [5.20103261e-01, 9.62648507e-01, 5.76826557e-01, ...,\n",
       "        6.87799829e-23, 2.35312310e-08, 1.34656709e-12],\n",
       "       [6.79345913e-01, 1.46149120e-01, 5.73534593e-01, ...,\n",
       "        4.20245742e-31, 5.55346341e-13, 4.18047829e-18],\n",
       "       ...,\n",
       "       [1.85534080e-26, 8.55386257e-21, 7.44657791e-26, ...,\n",
       "        7.36790735e-01, 1.08299672e-04, 3.32530301e-03],\n",
       "       [2.02954333e-23, 3.53726662e-18, 6.31680563e-23, ...,\n",
       "        7.28082174e-02, 5.15312700e-03, 1.23811858e-01],\n",
       "       [3.89223905e-40, 4.59512073e-33, 1.96357972e-39, ...,\n",
       "        2.24918557e-02, 3.91621334e-10, 6.51118364e-07]])"
      ]
     },
     "execution_count": 5,
     "metadata": {},
     "output_type": "execute_result"
    }
   ],
   "source": [
    "kerneltype='rbf'\n",
    "kpar=1\n",
    "K=np.exp(-np.power(l2distance(xTr_test,xTr_test2),2)*kpar)\n",
    "K"
   ]
  },
  {
   "cell_type": "code",
   "execution_count": 6,
   "metadata": {},
   "outputs": [
    {
     "data": {
      "text/plain": [
       "array([[6.96623269e-01, 8.71630019e-01, 7.40309846e-01, ...,\n",
       "        2.90874937e-24, 3.92794184e-09, 1.49974513e-13],\n",
       "       [5.20103261e-01, 9.62648507e-01, 5.76826557e-01, ...,\n",
       "        6.87799829e-23, 2.35312310e-08, 1.34656709e-12],\n",
       "       [6.79345913e-01, 1.46149120e-01, 5.73534593e-01, ...,\n",
       "        4.20245742e-31, 5.55346341e-13, 4.18047829e-18],\n",
       "       ...,\n",
       "       [1.85534080e-26, 8.55386257e-21, 7.44657791e-26, ...,\n",
       "        7.36790735e-01, 1.08299672e-04, 3.32530301e-03],\n",
       "       [2.02954333e-23, 3.53726662e-18, 6.31680563e-23, ...,\n",
       "        7.28082174e-02, 5.15312700e-03, 1.23811858e-01],\n",
       "       [3.89223905e-40, 4.59512073e-33, 1.96357972e-39, ...,\n",
       "        2.24918557e-02, 3.91621334e-10, 6.51118364e-07]])"
      ]
     },
     "execution_count": 6,
     "metadata": {},
     "output_type": "execute_result"
    }
   ],
   "source": [
    "k2 = computeK_grader('rbf', xTr_test, xTr_test2, kpar=1)\n",
    "k2"
   ]
  },
  {
   "cell_type": "code",
   "execution_count": 7,
   "metadata": {},
   "outputs": [
    {
     "data": {
      "text/plain": [
       "True"
      ]
     },
     "execution_count": 7,
     "metadata": {},
     "output_type": "execute_result"
    }
   ],
   "source": [
    "np.linalg.norm(K - k2) < 1e-5"
   ]
  },
  {
   "cell_type": "code",
   "execution_count": 8,
   "metadata": {
    "deletable": false,
    "editable": false,
    "nbgrader": {
     "checksum": "215dbae26b9ab343625160fa984b718d",
     "grade": false,
     "grade_id": "cell-computeK-selftest",
     "locked": true,
     "schema_version": 1,
     "solution": false
    }
   },
   "outputs": [
    {
     "name": "stdout",
     "output_type": "stream",
     "text": [
      "Running Test: computeK_test1 ... ✔ Passed!\n",
      "Running Test: computeK_test2 ... ✔ Passed!\n",
      "Running Test: computeK_test3 ... ✔ Passed!\n",
      "Running Test: computeK_test4 ... ✔ Passed!\n",
      "Running Test: computeK_test5 ... ✔ Passed!\n",
      "Running Test: computeK_test6 ... ✔ Passed!\n"
     ]
    }
   ],
   "source": [
    "# These tests test whether your computeK() is implemented correctly\n",
    "\n",
    "xTr_test, yTr_test = generate_data(100)\n",
    "xTr_test2, yTr_test2 = generate_data(50)\n",
    "n, d = xTr_test.shape\n",
    "\n",
    "# Checks whether computeK compute the kernel matrix with the right dimension\n",
    "def computeK_test1():\n",
    "    s1 = (computeK('rbf', xTr_test, xTr_test2, kpar=1).shape == (100, 50))\n",
    "    s2 = (computeK('polynomial', xTr_test, xTr_test2, kpar=1).shape == (100, 50))\n",
    "    s3 = (computeK('linear', xTr_test, xTr_test2, kpar=1).shape == (100, 50))\n",
    "    return (s1 and s2 and s3)\n",
    "\n",
    "# Checks whether the kernel matrix is symmetric\n",
    "def computeK_test2():\n",
    "    k_rbf = computeK('rbf', xTr_test, xTr_test, kpar=1)\n",
    "    s1 = np.allclose(k_rbf, k_rbf.T)\n",
    "    k_poly = computeK('polynomial', xTr_test, xTr_test, kpar=1)\n",
    "    s2 = np.allclose(k_poly, k_poly.T)\n",
    "    k_linear = computeK('linear', xTr_test, xTr_test, kpar=1)\n",
    "    s3 = np.allclose(k_linear, k_linear.T)\n",
    "    return (s1 and s2 and s3)\n",
    "\n",
    "# Checks whether the kernel matrix is positive semi-definite\n",
    "def computeK_test3():\n",
    "    k_rbf = computeK('rbf', xTr_test2, xTr_test2, kpar=1)\n",
    "    eigen_rbf = np.linalg.eigvals(k_rbf)\n",
    "    eigen_rbf[np.isclose(eigen_rbf, 0)] = 0\n",
    "    s1 = np.all(eigen_rbf >= 0)\n",
    "    k_poly = computeK('polynomial', xTr_test2, xTr_test2, kpar=1)\n",
    "    eigen_poly = np.linalg.eigvals(k_poly)\n",
    "    eigen_poly[np.isclose(eigen_poly, 0)] = 0\n",
    "    s2 = np.all(eigen_poly >= 0)\n",
    "    k_linear = computeK('linear', xTr_test2, xTr_test2, kpar=1)\n",
    "    eigen_linear = np.linalg.eigvals(k_linear)\n",
    "    eigen_linear[np.isclose(eigen_linear, 0)] = 0\n",
    "    s3 = np.all(eigen_linear >= 0)\n",
    "    return (s1 and s2 and s3)\n",
    "\n",
    "# Checks whether computeK compute the right kernel matrix with rbf kernel\n",
    "def computeK_test4():\n",
    "    k = computeK('rbf', xTr_test, xTr_test2, kpar=1)\n",
    "    k2 = computeK_grader('rbf', xTr_test, xTr_test2, kpar=1)\n",
    "    \n",
    "    return np.linalg.norm(k - k2) < 1e-5\n",
    "\n",
    "# Checks whether computeK compute the right kernel matrix with polynomial kernel\n",
    "def computeK_test5():\n",
    "    k = computeK('polynomial', xTr_test, xTr_test2, kpar=1)\n",
    "    k2 = computeK_grader('polynomial', xTr_test, xTr_test2, kpar=1)\n",
    "    \n",
    "    return np.linalg.norm(k - k2) < 1e-5\n",
    "\n",
    "# Checks whether computeK compute the right kernel matrix with linear kernel\n",
    "def computeK_test6():\n",
    "    k = computeK('linear', xTr_test, xTr_test2, kpar=1)\n",
    "    k2 = computeK_grader('linear', xTr_test, xTr_test2, kpar=1)\n",
    "    \n",
    "    return np.linalg.norm(k - k2) < 1e-5\n",
    "\n",
    "\n",
    "runtest(computeK_test1, 'computeK_test1')\n",
    "runtest(computeK_test2, 'computeK_test2')\n",
    "runtest(computeK_test3, 'computeK_test3')\n",
    "runtest(computeK_test4, 'computeK_test4')\n",
    "runtest(computeK_test5, 'computeK_test5')\n",
    "runtest(computeK_test6, 'computeK_test6')"
   ]
  },
  {
   "cell_type": "code",
   "execution_count": 9,
   "metadata": {
    "deletable": false,
    "editable": false,
    "nbgrader": {
     "checksum": "bd2c8ccbbecc00e7d6aad6329fd4edf3",
     "grade": true,
     "grade_id": "cell-computeK-test1",
     "locked": true,
     "points": 1,
     "schema_version": 1,
     "solution": false
    }
   },
   "outputs": [],
   "source": [
    "# Autograder test cell - worth 1 point\n",
    "# runs computeK_test1"
   ]
  },
  {
   "cell_type": "code",
   "execution_count": 10,
   "metadata": {
    "deletable": false,
    "editable": false,
    "nbgrader": {
     "checksum": "90c7eea29e746c03b7c404d207953eb7",
     "grade": true,
     "grade_id": "cell-computeK-test2",
     "locked": true,
     "points": 1,
     "schema_version": 1,
     "solution": false
    }
   },
   "outputs": [],
   "source": [
    "# Autograder test cell - worth 1 point\n",
    "# runs computeK_test2"
   ]
  },
  {
   "cell_type": "code",
   "execution_count": 11,
   "metadata": {
    "deletable": false,
    "editable": false,
    "nbgrader": {
     "checksum": "44c7806efdc12fc50ccc08a4a46e8a9d",
     "grade": true,
     "grade_id": "cell-computeK-test3",
     "locked": true,
     "points": 1,
     "schema_version": 1,
     "solution": false
    }
   },
   "outputs": [],
   "source": [
    "# Autograder test cell - worth 1 point\n",
    "# runs computeK_test3"
   ]
  },
  {
   "cell_type": "code",
   "execution_count": 12,
   "metadata": {
    "deletable": false,
    "editable": false,
    "nbgrader": {
     "checksum": "f6eb66f21d145c4a9d9687ee4ef19569",
     "grade": true,
     "grade_id": "cell-computeK-test4",
     "locked": true,
     "points": 1,
     "schema_version": 1,
     "solution": false
    }
   },
   "outputs": [],
   "source": [
    "# Autograder test cell - worth 1 point\n",
    "# runs computeK_test4"
   ]
  },
  {
   "cell_type": "code",
   "execution_count": 13,
   "metadata": {
    "deletable": false,
    "editable": false,
    "nbgrader": {
     "checksum": "ae6de714e9658eccb72624bc3d9fb153",
     "grade": true,
     "grade_id": "cell-computeK-test5",
     "locked": true,
     "points": 1,
     "schema_version": 1,
     "solution": false
    }
   },
   "outputs": [],
   "source": [
    "# Autograder test cell - worth 1 point\n",
    "# runs computeK_test5"
   ]
  },
  {
   "cell_type": "code",
   "execution_count": 14,
   "metadata": {
    "deletable": false,
    "editable": false,
    "nbgrader": {
     "checksum": "9d99ad37ee48a381df2ea875e48ebf44",
     "grade": true,
     "grade_id": "cell-computeK-test6",
     "locked": true,
     "points": 1,
     "schema_version": 1,
     "solution": false
    }
   },
   "outputs": [],
   "source": [
    "# Autograder test cell - worth 1 point\n",
    "# runs computeK_test5"
   ]
  },
  {
   "cell_type": "markdown",
   "metadata": {
    "deletable": false,
    "editable": false,
    "nbgrader": {
     "checksum": "23bdb4466939ada1fb80113763e726f2",
     "grade": false,
     "grade_id": "cell-482d6338c580e4fb",
     "locked": true,
     "schema_version": 1,
     "solution": false
    }
   },
   "source": [
    "Previously in linear SVM, we could pass in $\\mathbf{w}$ to calculate the unconstrained square hinge loss and the $l_2$-regularizer. However, for the kernelized version of the loss function, $\\mathbf{w}$ is written as a linear combination of the $n$ training examples $\\phi \\left( \\mathbf{x}_1 \\right), \\dots, \\phi \\left( \\mathbf{x}_n \\right)$ and thus we will need to pass in the coefficients in the linear combination and training points.\n",
    "\n",
    "As we will see in the following section, after substituting $\\mathbf{w}$ with a linear combination of training examples, we can simplify the kernel SVM loss function quite a bit.\n",
    "\n",
    "### Kernelized SVM Loss Function\n",
    "\n",
    "We assume a training set of $n$ examples. Recall how $\\mathbf{w}$ could be written as a linear combination of the training samples:\n",
    "$$\n",
    "    \\mathbf{w} = \\sum_{j = 1}^n \\alpha_j y_j \\phi \\left( \\mathbf{x}_j \\right) = \\sum_{j=1}^n \\beta_j \\phi \\left( \\mathbf{x}_j \\right)\n",
    "$$\n",
    "where we define new model parameters $\\beta_j = \\alpha_j y_j$ for simpler expressions going forward.\n",
    "\n",
    "Also recall the expression for the regularizer and the unconstrained squared hinge loss over any $m$ points $\\phi\\left( \\mathbf{z}_1 \\right), \\dots, \\phi \\left( \\mathbf{z}_m \\right)$. If we substitute $\\mathbf{w}$ into the loss, we get the following expression. **Observe that only the squared hinge loss is dependent on the $m$ points; the regularizer is independent.**\n",
    "$$\n",
    "    \\begin{aligned}\n",
    "    \\ell(\\mathbf{w}, b) &= \\underbrace{\\mathbf{w}^\\top \\mathbf{w}}_{l_{2} \\text{ regularizer} } +  C \\underbrace{ \\sum_{i=1}^{m} \\max \\left[ 1-y_{i} \\left( \\mathbf{w}^\\top \\phi \\left(\\mathbf{z}_i\\right) + b \\right), 0 \\right]^2}_{ \\text{squared hinge loss} }\\\\\n",
    "        &= \\left( \\sum_{j=1}^n \\beta_j \\phi \\left( \\mathbf{x}_j \\right) \\right)^\\top \\left( \\sum_{j=1}^n \\beta_j \\phi \\left( \\mathbf{x}_j \\right) \\right)\n",
    "            + C \\sum_{i=1}^m \\max \\left[ 1 - y_i \\left( \\left( \\sum_{j=1}^n \\beta_j \\phi \\left( \\mathbf{x}_j \\right) \\right)^\\top \\phi \\left( \\mathbf{z}_i \\right) + b \\right), 0 \\right]^2\\\\\n",
    "        &= \\sum_{j = 1}^n \\sum_{k = 1}^n \\beta_j \\beta_k \\phi \\left( \\mathbf{x}_j \\right)^\\top \\phi \\left( \\mathbf{x}_k \\right)\n",
    "            + C \\sum_{i=1}^{m} \\max \\left[ 1-y_{i} \\left( \\sum_{j = 1}^n \\beta_j \\phi \\left(\\mathbf{x}_j \\right)^\\top \\phi \\left(\\mathbf{z}_i \\right)+b \\right), 0 \\right]^2\n",
    "    \\end{aligned}\n",
    "$$\n",
    "\n",
    "Let us now replace all the dot product terms $\\phi(\\mathbf{a})^\\top \\phi(\\mathbf{b})$ with $\\mathsf{K}(\\mathbf{a}, \\mathbf{b})$ for all data points $\\mathbf{a}, \\mathbf{b}$.\n",
    "$$\n",
    "    \\begin{aligned}\n",
    "    \\ell\\left( \\beta_1, \\dots, \\beta_n, b \\right) = \\underbrace{\\sum_{j = 1}^n \\sum_{k = 1}^n \\beta_j \\beta_k \\mathsf{K} \\left( \\mathbf{x}_j, \\mathbf{x}_k \\right)}_{l_{2} \\text{ regularizer}}\n",
    "        + C \\underbrace{ \\sum_{i=1}^{m} \\max \\left[ 1-y_{i} \\left(\\sum_{j = 1}^n \\beta_j \\mathsf{K} \\left(\\mathbf{x}_j, \\mathbf{z}_i \\right)+b \\right), 0 \\right]^2}_{\\text{squared hinge loss}}\n",
    "    \\end{aligned}\n",
    "$$\n",
    "\n",
    "Let us pause here to observe a few facts:\n",
    "- When $\\mathbf{w}$ is written as a linear combination of the $n$ training points, the loss is then optimized over the parameters $\\beta_1, \\dots, \\beta_n, b$.\n",
    "- The $l_2$-regularizer is a dot-product of $\\mathbf{w}$ with itself. Since $\\mathbf{w}$ is a linear combination of the $n$ training points, the regularizer only depends on the dot-products between $n$ training points.\n",
    "- The loss never needs $\\phi(\\mathbf{x})$ explicitly. It only needs the dot products between data points.\n",
    "\n",
    "Now, let us move ahead and simplify the loss function to a vector form. First, we will simplify the $l_{2}$ regularizer. Define $\\mathbf{\\beta} = \\left[\\beta_1, \\dots, \\beta_n \\right]^\\top$ and $\\mathsf{K}_{nn}$ of size $n \\times n$ to be the kernel matrix calculated on the training set of $n$ points. Precisely, the entry $\\mathsf{K}_{nn}[j, k] = \\mathsf{K} \\left(\\mathbf{x}_j, \\mathbf{x}_k \\right)$. Thus, the $l_2$-regularizer can be written as the quadratic form:\n",
    "$$\n",
    "    \\sum_{j = 1}^n \\sum_{k = 1}^n \\beta_j \\beta_k \\mathsf{K} \\left(\\mathbf{x}_j, \\mathbf{x}_k \\right) = \\mathbf{\\beta}^\\top \\mathsf{K}_{nn} \\mathbf{\\beta}\n",
    "$$\n",
    "\n",
    "Similarly, we can define the kernel matrix $\\mathsf{K}_{nm}$ of size $n \\times m$, the $(j, i)^{th}$ entry is $\\mathsf{K}_{nm}[j, i] = \\mathsf{K} \\left( \\mathbf{x}_j, \\mathbf{z}_i \\right)$. Hence, the summation term in the hinge loss can be expressed as: \n",
    "$$\n",
    "    \\sum_{j = 1}^n \\beta_j \\mathsf{K} \\left(\\mathbf{x}_j, \\mathbf{z}_i \\right) = \\mathbf{\\beta}^\\top \\mathsf{K}_{nm}[:, i]\n",
    "$$\n",
    "where $\\mathsf{K}_{nm}[:, i]$ is the $i^{th}$ column of $\\mathsf{K}_{nm}$.\n",
    "\n",
    "Combining the two simplifications we have, we arrive at the following final expression for the loss function: \n",
    "$$\n",
    "    \\begin{aligned}\n",
    "    \\ell\\left( \\mathbf{\\beta}, b \\right) = \\underbrace{\\mathbf{\\beta}^\\top \\mathsf{K}_{nn} \\mathbf{\\beta}}_{l_{2} \\text{ regularizer}}\n",
    "        + C \\underbrace{ \\sum_{i=1}^{m} \\max \\left[ 1-y_{i} \\left( \\mathbf{\\beta}^\\top \\mathsf{K}_{nm}[:, i] + b \\right), 0 \\right]^2}_{\\text{squared hinge loss}}\n",
    "    \\end{aligned}\n",
    "$$\n",
    "\n",
    "**During training, we minimize the training loss, with $\\mathsf{K}_{nm}$ replaced by $\\mathsf{K}_{nn}$, to get the optimal $\\mathbf{\\beta}, b$. Then we fix $\\mathbf{\\beta}, b$ and evaluate the loss value on testing points with $\\mathsf{K}_{nm}$ in the squared hinge loss.**\n",
    "\n",
    "Note that the loss function we have above is very similar to the vanilla linear SVM. The key differences are: \n",
    "1. Instead of $\\mathbf{w}$, we have $\\mathbf{\\beta}$ to optimize for.\n",
    "2. The $l_{2}$-regularizer $\\mathbf{w}^\\top \\mathbf{w}$ is replaced by $\\mathbf{\\beta}^\\top \\mathsf{K}_{nn} \\mathbf{\\beta}$ to account for using $\\mathbf{\\beta}$ instead of $\\mathbf{w}$.\n",
    "3. The inner product $\\mathbf{w}^\\top \\phi \\left( \\mathbf{z}_i \\right)$ in the hinge loss is changed to $\\mathbf{\\beta}^T \\mathsf{K}_{nm}[:, i]$.\n",
    "\n",
    "Since each entry of $\\mathsf{K}_{nn}$ and $\\mathsf{K}_{nm}$ can be calculated by a simple formula in `computeK`, the kernel SVM is efficiently optimizable even if the $\\phi$ function is in a high-dimensional space.\n",
    "\n",
    "### Part Two: Compute Loss [Graded]\n",
    "\n",
    "Now you will implement the function **`loss`**. The function takes in model parameters `beta, b`, $n$ training points as `xTr, yTr` and $m$ testing points as `xTe, yTe`, along with hyperparameters `C, kerneltype, kpar`. You will need to calculate both kernel matrices $\\mathsf{K}_{nn}$ and $\\mathsf{K}_{nm}$ using `computeK` on `xTr, xTr` and `xTr, xTe` respectively.\n",
    "\n",
    "When we use the `loss` function later on, we are going to be a little clever: we will use it both for testing and training loss.\n",
    "- During training, we will call `loss(beta, b, xTr, yTr, xTr, yTr, C, kerneltype, kpar)` so that the hinge loss gets calculated on $\\mathsf{K}_{nn}$.\n",
    "- During testing, we will just call `loss(beta, b, xTr, yTr, xTe, yTe, C, kerneltype, kpar)` so that the hinge loss gets calculated on $\\mathsf{K}_{nm}$.\n",
    "\n",
    "Therefore, you should implement `loss` keeping in mind how we will call it during training and testing."
   ]
  },
  {
   "cell_type": "code",
   "execution_count": 15,
   "metadata": {
    "deletable": false,
    "nbgrader": {
     "checksum": "9c8a64b81c5176e744cd367130dbd718",
     "grade": false,
     "grade_id": "cell-loss",
     "locked": false,
     "schema_version": 1,
     "solution": true
    }
   },
   "outputs": [],
   "source": [
    "def loss(beta, b, xTr, yTr, xTe, yTe, C, kerneltype, kpar=1):\n",
    "    \"\"\"\n",
    "    Calculates the loss (regularizer + squared hinge loss) for testing data against training data and parameters beta, b.\n",
    "    \n",
    "    Input:\n",
    "        beta  : n-dimensional vector that stores the linear combination coefficients\n",
    "        b     : bias term, a scalar\n",
    "        xTr   : nxd dimensional data matrix (training set, each row is an input vector)\n",
    "        yTr   : n-dimensional vector (training labels, each entry is a label)\n",
    "        xTe   : mxd dimensional matrix (test set, each row is an input vector)\n",
    "        yTe   : m-dimensional vector (test labels, each entry is a label)\n",
    "        C     : scalar (constant that controls the tradeoff between l2-regularizer and hinge-loss)\n",
    "        kerneltype: either of ['linear', 'polynomial', 'rbf']\n",
    "        kpar  : kernel parameter (inverse sigma^2 in case of 'rbf', degree p in case of 'polynomial')\n",
    "    \n",
    "    Output:\n",
    "        loss_val : the total loss obtained with (beta, xTr, yTr, b) on xTe and yTe, a scalar\n",
    "    \"\"\"\n",
    "    \n",
    "    loss_val = 0.0\n",
    "    # compute the kernel values between xTr and xTr \n",
    "    kernel_train = computeK(kerneltype, xTr, xTr, kpar)   # Knn\n",
    "    # compute the kernel values between xTr and xTe\n",
    "    kernel_test = computeK(kerneltype, xTr, xTe, kpar)    # Knm\n",
    "    \n",
    "    # YOUR CODE HERE\n",
    "    from numpy.linalg import multi_dot\n",
    "    \n",
    "    l2_reg=multi_dot([beta,kernel_train,beta])\n",
    "    pred=np.dot(beta,kernel_test)+b\n",
    "    margin=yTe*pred\n",
    "    sq_hinge=C*np.sum(np.maximum(1-margin,0)**2)\n",
    "    \n",
    "    loss_val=l2_reg+sq_hinge\n",
    "         \n",
    "    return loss_val\n",
    "\n",
    "    # raise NotImplementedError()"
   ]
  },
  {
   "cell_type": "markdown",
   "metadata": {},
   "source": [
    "### Let's re-create `loss_test6`"
   ]
  },
  {
   "cell_type": "code",
   "execution_count": 16,
   "metadata": {},
   "outputs": [
    {
     "data": {
      "text/plain": [
       "(array([[ 3.50992265,  4.23336961],\n",
       "        [ 3.4740027 ,  4.53202145],\n",
       "        [ 3.58150187,  5.55149155],\n",
       "        [ 4.71344656,  3.18008998],\n",
       "        [ 6.42826169,  5.69257219],\n",
       "        [ 4.8251696 ,  4.5552008 ],\n",
       "        [ 4.1119425 ,  5.21431174],\n",
       "        [ 6.19206521,  4.97742253],\n",
       "        [ 5.1121836 ,  4.79683869],\n",
       "        [ 6.36520347,  5.73018747],\n",
       "        [ 3.18995169,  5.2445595 ],\n",
       "        [ 4.39052952,  4.7726357 ],\n",
       "        [ 6.79577993,  6.31040255],\n",
       "        [ 6.32529399,  4.77546104],\n",
       "        [ 6.12948772,  5.70967287],\n",
       "        [ 4.16694141,  3.69429743],\n",
       "        [ 4.69788587,  4.69281478],\n",
       "        [ 4.73241786,  6.03206476],\n",
       "        [ 6.76131755,  5.74025056],\n",
       "        [ 3.3945922 ,  4.81457531],\n",
       "        [ 5.14922627,  4.75557689],\n",
       "        [ 4.23363974,  5.29145741],\n",
       "        [ 4.97621509,  5.63546505],\n",
       "        [ 6.17090709,  6.24787696],\n",
       "        [ 5.57560436,  4.94389861],\n",
       "        [ 6.61771108,  4.40265509],\n",
       "        [ 4.08402941,  4.82273768],\n",
       "        [ 5.13007853,  6.54935167],\n",
       "        [ 6.70855626,  3.91782711],\n",
       "        [ 4.99955785,  4.33200515],\n",
       "        [ 5.66280525,  4.5519019 ],\n",
       "        [ 5.64806708,  4.96689743],\n",
       "        [ 5.05638524,  6.48031535],\n",
       "        [ 3.85561067,  5.29347907],\n",
       "        [ 4.94841587,  3.93598791],\n",
       "        [ 4.42394771,  4.60878588],\n",
       "        [ 2.99932425,  4.40802081],\n",
       "        [ 5.46634535,  3.68699212],\n",
       "        [ 5.73359734,  5.44796471],\n",
       "        [ 5.45607719,  3.334265  ],\n",
       "        [ 4.00021175,  5.25243765],\n",
       "        [ 4.95878131,  4.102368  ],\n",
       "        [ 4.76563457,  6.39524524],\n",
       "        [ 4.21937399,  5.42129554],\n",
       "        [ 4.49727902,  3.05517479],\n",
       "        [ 5.21433384,  5.85321662],\n",
       "        [ 6.00448543,  3.8981103 ],\n",
       "        [ 4.286511  ,  3.9620883 ],\n",
       "        [ 6.2598045 ,  4.51315714],\n",
       "        [ 6.63642314,  5.01439017],\n",
       "        [ 9.96063056, 11.64150833],\n",
       "        [ 8.98219617, 10.14184222],\n",
       "        [ 8.01742944, 10.64972546],\n",
       "        [10.93800711,  9.1356964 ],\n",
       "        [ 9.96930049,  9.8762233 ],\n",
       "        [ 9.86625551, 11.23445802],\n",
       "        [ 9.69217373,  9.84779204],\n",
       "        [11.06685342,  9.80606254],\n",
       "        [ 9.61157417,  9.98046676],\n",
       "        [11.69940759,  9.36255952],\n",
       "        [ 9.72745327, 10.48774859],\n",
       "        [10.23029512, 11.14668963],\n",
       "        [10.93390414,  9.68331297],\n",
       "        [ 9.68779801,  9.73320674],\n",
       "        [ 8.43710753,  9.74019773],\n",
       "        [ 9.27805423,  9.38172258],\n",
       "        [10.6498644 ,  9.58944137],\n",
       "        [ 7.94107581, 10.61490952],\n",
       "        [11.29441324, 10.05029302],\n",
       "        [ 9.6438764 ,  7.80700084],\n",
       "        [10.27693357, 10.09857024],\n",
       "        [10.31348622,  9.7416783 ],\n",
       "        [10.46151205,  8.95882338],\n",
       "        [ 8.30465193,  9.23654519],\n",
       "        [ 9.70930575,  7.57337775],\n",
       "        [ 9.93187494, 11.25038489],\n",
       "        [10.85896924,  9.67997976],\n",
       "        [ 9.7371586 ,  8.64058639],\n",
       "        [ 9.97776428, 10.73819334],\n",
       "        [10.43041809, 10.24497452],\n",
       "        [ 8.85524368,  8.86738718],\n",
       "        [11.32092866,  9.4506965 ],\n",
       "        [ 9.68278856,  7.62399131],\n",
       "        [ 9.59012337, 10.54071203],\n",
       "        [11.29044636,  9.28221184],\n",
       "        [ 9.31428416, 11.1998584 ],\n",
       "        [10.82098665,  9.8769303 ],\n",
       "        [ 8.48034716,  9.76010719],\n",
       "        [10.40268798,  8.74208182],\n",
       "        [ 9.52708076, 11.56748822],\n",
       "        [11.08621443, 10.16515735],\n",
       "        [10.18316165,  8.92016543],\n",
       "        [ 8.95596599, 10.87668185],\n",
       "        [10.70546798, 10.74213738],\n",
       "        [ 9.80125687,  9.63935872],\n",
       "        [ 9.0113995 , 10.80746551],\n",
       "        [10.99708891, 10.65493977],\n",
       "        [ 9.6093935 ,  9.25154928],\n",
       "        [11.19238126,  9.50381345],\n",
       "        [ 6.58866542,  9.41696884]]),\n",
       " array([ 1,  1,  1,  1,  1,  1,  1,  1,  1,  1,  1,  1,  1,  1,  1,  1,  1,\n",
       "         1,  1,  1,  1,  1,  1,  1,  1,  1,  1,  1,  1,  1,  1,  1,  1,  1,\n",
       "         1,  1,  1,  1,  1,  1,  1,  1,  1,  1,  1,  1,  1,  1,  1,  1, -1,\n",
       "        -1, -1, -1, -1, -1, -1, -1, -1, -1, -1, -1, -1, -1, -1, -1, -1, -1,\n",
       "        -1, -1, -1, -1, -1, -1, -1, -1, -1, -1, -1, -1, -1, -1, -1, -1, -1,\n",
       "        -1, -1, -1, -1, -1, -1, -1, -1, -1, -1, -1, -1, -1, -1, -1]),\n",
       " 100,\n",
       " 2)"
      ]
     },
     "execution_count": 16,
     "metadata": {},
     "output_type": "execute_result"
    }
   ],
   "source": [
    "xTr_test, yTr_test = generate_data()\n",
    "n,d = xTr_test.shape\n",
    "xTr_test,yTr_test,n,d"
   ]
  },
  {
   "cell_type": "code",
   "execution_count": 17,
   "metadata": {},
   "outputs": [
    {
     "data": {
      "text/plain": [
       "(array([0., 0., 0., 0., 0., 0., 0., 0., 0., 0., 0., 0., 0., 0., 0., 0., 0.,\n",
       "        0., 0., 0., 0., 0., 0., 0., 0., 0., 0., 0., 0., 0., 0., 0., 0., 0.,\n",
       "        0., 0., 0., 0., 0., 0., 0., 0., 0., 0., 0., 0., 0., 0., 0., 0., 0.,\n",
       "        0., 0., 0., 0., 0., 0., 0., 0., 0., 0., 0., 0., 0., 0., 0., 0., 0.,\n",
       "        0., 0., 0., 0., 0., 0., 0., 0., 0., 0., 0., 0., 0., 0., 0., 0., 0.,\n",
       "        0., 0., 0., 0., 0., 0., 0., 0., 0., 0., 0., 0., 0., 0., 0.]),\n",
       " array([0.10883622]))"
      ]
     },
     "execution_count": 17,
     "metadata": {},
     "output_type": "execute_result"
    }
   ],
   "source": [
    "beta = np.zeros(n)\n",
    "b = np.random.rand(1)\n",
    "beta,b"
   ]
  },
  {
   "cell_type": "code",
   "execution_count": 18,
   "metadata": {},
   "outputs": [
    {
     "data": {
      "text/plain": [
       "(array([[1.00000000e+00, 9.13489713e-01, 1.75070060e-01, ...,\n",
       "         8.05836520e-28, 2.01472949e-38, 1.63722619e-16],\n",
       "        [9.13489713e-01, 1.00000000e+00, 3.49631560e-01, ...,\n",
       "         9.51466505e-27, 2.46838768e-37, 2.65101224e-15],\n",
       "        [1.75070060e-01, 3.49631560e-01, 1.00000000e+00, ...,\n",
       "         1.87942780e-22, 1.14612828e-32, 3.83239053e-11],\n",
       "        ...,\n",
       "        [8.05836520e-28, 9.51466505e-27, 1.87942780e-22, ...,\n",
       "         1.00000000e+00, 7.65747838e-02, 1.05990431e-04],\n",
       "        [2.01472949e-38, 2.46838768e-37, 1.14612828e-32, ...,\n",
       "         7.65747838e-02, 1.00000000e+00, 6.19727371e-10],\n",
       "        [1.63722619e-16, 2.65101224e-15, 3.83239053e-11, ...,\n",
       "         1.05990431e-04, 6.19727371e-10, 1.00000000e+00]]),\n",
       " array([[1.00000000e+00, 9.13489713e-01, 1.75070060e-01, ...,\n",
       "         8.05836520e-28, 2.01472949e-38, 1.63722619e-16],\n",
       "        [9.13489713e-01, 1.00000000e+00, 3.49631560e-01, ...,\n",
       "         9.51466505e-27, 2.46838768e-37, 2.65101224e-15],\n",
       "        [1.75070060e-01, 3.49631560e-01, 1.00000000e+00, ...,\n",
       "         1.87942780e-22, 1.14612828e-32, 3.83239053e-11],\n",
       "        ...,\n",
       "        [8.05836520e-28, 9.51466505e-27, 1.87942780e-22, ...,\n",
       "         1.00000000e+00, 7.65747838e-02, 1.05990431e-04],\n",
       "        [2.01472949e-38, 2.46838768e-37, 1.14612828e-32, ...,\n",
       "         7.65747838e-02, 1.00000000e+00, 6.19727371e-10],\n",
       "        [1.63722619e-16, 2.65101224e-15, 3.83239053e-11, ...,\n",
       "         1.05990431e-04, 6.19727371e-10, 1.00000000e+00]]))"
      ]
     },
     "execution_count": 18,
     "metadata": {},
     "output_type": "execute_result"
    }
   ],
   "source": [
    "loss_val = 0.0\n",
    "C=10\n",
    "kernel_type='rbf'\n",
    "kpar=1\n",
    "    # compute the kernel values between xTr and xTr \n",
    "kernel_train = computeK(kerneltype, xTr_test, xTr_test, kpar)   # Knn\n",
    "    # compute the kernel values between xTr and xTe\n",
    "kernel_test = computeK(kerneltype, xTr_test, xTr_test, kpar)    # Knm\n",
    "kernel_train,kernel_test"
   ]
  },
  {
   "cell_type": "code",
   "execution_count": 19,
   "metadata": {},
   "outputs": [
    {
     "data": {
      "text/plain": [
       "1011.8453219496217"
      ]
     },
     "execution_count": 19,
     "metadata": {},
     "output_type": "execute_result"
    }
   ],
   "source": [
    "from numpy.linalg import multi_dot\n",
    "    \n",
    "l2_reg=multi_dot([beta,kernel_train,beta])\n",
    "pred=np.dot(beta,kernel_test)+b\n",
    "margin=yTr_test*pred\n",
    "sq_hinge=C*np.sum(np.maximum(1-margin,0)**2)\n",
    "    \n",
    "loss_val=l2_reg+sq_hinge\n",
    "loss_val"
   ]
  },
  {
   "cell_type": "code",
   "execution_count": 20,
   "metadata": {},
   "outputs": [
    {
     "data": {
      "text/plain": [
       "1011.8453219496217"
      ]
     },
     "execution_count": 20,
     "metadata": {},
     "output_type": "execute_result"
    }
   ],
   "source": [
    "loss_val_grader = loss_grader(beta, b, xTr_test, yTr_test, xTr_test, yTr_test, 10, 'rbf')\n",
    "loss_val_grader"
   ]
  },
  {
   "cell_type": "code",
   "execution_count": 21,
   "metadata": {},
   "outputs": [
    {
     "data": {
      "text/plain": [
       "True"
      ]
     },
     "execution_count": 21,
     "metadata": {},
     "output_type": "execute_result"
    }
   ],
   "source": [
    "np.linalg.norm(loss_val - loss_val_grader) < 1e-5"
   ]
  },
  {
   "cell_type": "code",
   "execution_count": 22,
   "metadata": {
    "deletable": false,
    "editable": false,
    "nbgrader": {
     "checksum": "3a5a95e6b22e655780fc60248ba7b78d",
     "grade": false,
     "grade_id": "cell-loss_selftest",
     "locked": true,
     "schema_version": 1,
     "solution": false
    }
   },
   "outputs": [
    {
     "name": "stdout",
     "output_type": "stream",
     "text": [
      "Running Test: loss_test1 ... ✔ Passed!\n",
      "Running Test: loss_test2 ... ✔ Passed!\n",
      "Running Test: loss_test3 ... ✔ Passed!\n",
      "Running Test: loss_test4 ... ✔ Passed!\n",
      "Running Test: loss_test5 ... ✔ Passed!\n",
      "Running Test: loss_test6 ... ✔ Passed!\n",
      "Running Test: loss_test7 ... ✔ Passed!\n"
     ]
    }
   ],
   "source": [
    "# These tests test whether your loss() is implemented correctly\n",
    "\n",
    "xTr_test, yTr_test = generate_data()\n",
    "n, d = xTr_test.shape\n",
    "\n",
    "# Check whether your loss() returns a scalar\n",
    "def loss_test1():\n",
    "    beta = np.zeros(n)\n",
    "    b = np.zeros(1)\n",
    "    loss_val = loss(beta, b, xTr_test, yTr_test, xTr_test, yTr_test, 10, 'rbf')\n",
    "    \n",
    "    return np.isscalar(loss_val)\n",
    "\n",
    "\n",
    "# Check whether your loss() returns a nonnegative scalar\n",
    "def loss_test2():\n",
    "    beta = np.random.rand(n)\n",
    "    b = np.random.rand(1)\n",
    "    loss_val = loss(beta, b, xTr_test, yTr_test, xTr_test, yTr_test, 10, 'rbf')\n",
    "    \n",
    "    return loss_val >= 0\n",
    "\n",
    "# Check whether you implement l2-regularizer correctly\n",
    "def loss_test3():\n",
    "    beta = np.random.rand(n)\n",
    "    b = np.random.rand(1)\n",
    "    loss_val = loss(beta, b, xTr_test, yTr_test, xTr_test, yTr_test, 0, 'rbf')\n",
    "    loss_val_grader = loss_grader(beta, b, xTr_test, yTr_test, xTr_test, yTr_test, 0, 'rbf')\n",
    "    \n",
    "    return (np.linalg.norm(loss_val - loss_val_grader) < 1e-5)\n",
    "\n",
    "# Check whether you implement square hinge loss correctly\n",
    "def loss_test4():\n",
    "    beta = np.zeros(n)\n",
    "    b = np.random.rand(1)\n",
    "    loss_val = loss(beta, b, xTr_test, yTr_test, xTr_test, yTr_test, 10, 'rbf')\n",
    "    loss_val_grader = loss_grader(beta, b, xTr_test, yTr_test, xTr_test, yTr_test, 10, 'rbf')\n",
    "    \n",
    "    return (np.linalg.norm(loss_val - loss_val_grader) < 1e-5)\n",
    "\n",
    "# Check whether you implement square hinge loss correctly\n",
    "def loss_test5():\n",
    "    beta = np.zeros(n)\n",
    "    b = np.random.rand(1)\n",
    "    loss_val = loss(beta, b, xTr_test, yTr_test, xTr_test, yTr_test, 10, 'rbf')\n",
    "    loss_val_grader = loss_grader(beta, b, xTr_test, yTr_test, xTr_test, yTr_test, 10, 'rbf')\n",
    "    \n",
    "    return (np.linalg.norm(loss_val - loss_val_grader) < 1e-5)\n",
    "\n",
    "# Check whether you implement loss correctly\n",
    "def loss_test6():\n",
    "    beta = np.zeros(n)\n",
    "    b = np.random.rand(1)\n",
    "    loss_val = loss(beta, b, xTr_test, yTr_test, xTr_test, yTr_test, 100, 'rbf')\n",
    "    loss_val_grader = loss_grader(beta, b, xTr_test, yTr_test, xTr_test, yTr_test, 100, 'rbf')\n",
    "    \n",
    "    return (np.linalg.norm(loss_val - loss_val_grader) < 1e-5)\n",
    "\n",
    "# Check whether you implement loss correctly for testing data\n",
    "def loss_test7():\n",
    "    xTe_test, yTe_test = generate_data()\n",
    "    m, _ = xTe_test.shape\n",
    "    \n",
    "    beta = np.zeros(n)\n",
    "    b = np.random.rand(1)\n",
    "    loss_val = loss(beta, b, xTr_test, yTr_test, xTe_test, yTe_test, 100, 'rbf')\n",
    "    loss_val_grader = loss_grader(beta, b, xTr_test, yTr_test, xTe_test, yTe_test, 100, 'rbf')\n",
    "    \n",
    "    return (np.linalg.norm(loss_val - loss_val_grader) < 1e-5)\n",
    "\n",
    "runtest(loss_test1,'loss_test1')\n",
    "runtest(loss_test2,'loss_test2')\n",
    "runtest(loss_test3,'loss_test3')\n",
    "runtest(loss_test4,'loss_test4')\n",
    "runtest(loss_test5,'loss_test5')\n",
    "runtest(loss_test6,'loss_test6')\n",
    "runtest(loss_test7,'loss_test7')"
   ]
  },
  {
   "cell_type": "code",
   "execution_count": 23,
   "metadata": {
    "deletable": false,
    "editable": false,
    "nbgrader": {
     "checksum": "e8a8bf4f84c63257cc5027f369297d0c",
     "grade": true,
     "grade_id": "cell-loss-test1",
     "locked": true,
     "points": 1,
     "schema_version": 1,
     "solution": false
    }
   },
   "outputs": [],
   "source": [
    "# Autograder test cell - worth 1 point\n",
    "# runs loss_test1"
   ]
  },
  {
   "cell_type": "code",
   "execution_count": 24,
   "metadata": {
    "deletable": false,
    "editable": false,
    "nbgrader": {
     "checksum": "8c5cb3e3eadf76dd90def267e635eb40",
     "grade": true,
     "grade_id": "cell-loss-test2",
     "locked": true,
     "points": 1,
     "schema_version": 1,
     "solution": false
    }
   },
   "outputs": [],
   "source": [
    "# Autograder test cell - worth 1 point\n",
    "# runs loss test2"
   ]
  },
  {
   "cell_type": "code",
   "execution_count": 25,
   "metadata": {
    "deletable": false,
    "editable": false,
    "nbgrader": {
     "checksum": "e9e6086392f22c50444dadf2159d2c3a",
     "grade": true,
     "grade_id": "cell-loss-test3",
     "locked": true,
     "points": 1,
     "schema_version": 1,
     "solution": false
    }
   },
   "outputs": [],
   "source": [
    "# Autograder test cell - worth 1 point\n",
    "# runs loss test3"
   ]
  },
  {
   "cell_type": "code",
   "execution_count": 26,
   "metadata": {
    "deletable": false,
    "editable": false,
    "nbgrader": {
     "checksum": "0ada7379e6811b8d2ed8c9a13a469f08",
     "grade": true,
     "grade_id": "cell-loss-test4",
     "locked": true,
     "points": 1,
     "schema_version": 1,
     "solution": false
    }
   },
   "outputs": [],
   "source": [
    "# Autograder test cell - worth 1 point\n",
    "# runs loss test4"
   ]
  },
  {
   "cell_type": "code",
   "execution_count": 27,
   "metadata": {
    "deletable": false,
    "editable": false,
    "nbgrader": {
     "checksum": "02b8b483e19d5c129f7cc8f2c3cd495a",
     "grade": true,
     "grade_id": "cell-loss-test5",
     "locked": true,
     "points": 1,
     "schema_version": 1,
     "solution": false
    }
   },
   "outputs": [],
   "source": [
    "# Autograder test cell - worth 1 point\n",
    "# runs loss test5"
   ]
  },
  {
   "cell_type": "code",
   "execution_count": 28,
   "metadata": {
    "deletable": false,
    "editable": false,
    "nbgrader": {
     "checksum": "52d0e4ff5205be1aa4a08460ca8f211f",
     "grade": true,
     "grade_id": "cell-loss-test6",
     "locked": true,
     "points": 1,
     "schema_version": 1,
     "solution": false
    }
   },
   "outputs": [],
   "source": [
    "# Autograder test cell - worth 1 point\n",
    "# runs loss test6"
   ]
  },
  {
   "cell_type": "code",
   "execution_count": 29,
   "metadata": {
    "deletable": false,
    "editable": false,
    "nbgrader": {
     "checksum": "594bd32070d790dd0c25ebf7187ba022",
     "grade": true,
     "grade_id": "cell-loss-test7",
     "locked": true,
     "points": 1,
     "schema_version": 1,
     "solution": false
    }
   },
   "outputs": [],
   "source": [
    "# Autograder test cell - worth 1 point\n",
    "xTe_test, yTe_test = generate_data()\n",
    "m, _ = xTe_test.shape\n",
    "\n",
    "assert loss_test7()\n",
    "# runs loss test7"
   ]
  },
  {
   "cell_type": "markdown",
   "metadata": {
    "deletable": false,
    "editable": false,
    "nbgrader": {
     "checksum": "a0a2d93aab219b7502c2efbf74baf807",
     "grade": false,
     "grade_id": "cell-3d6aa5df021a859a",
     "locked": true,
     "schema_version": 1,
     "solution": false
    }
   },
   "source": [
    "### Part Three: Compute Gradient [Graded]\n",
    "\n",
    "Now, you will implement the function **`grad`** that computes the gradients of the loss function with respect to the parameters, similar to what you did in the Linear SVM project. `grad` outputs the gradient with respect to $\\mathbf{\\beta}$ (`beta_grad`) and $b$ (`bgrad`). Unlike `loss`, `grad` is only called during the training phase; consequently, the input parameters don't include `xTe, yTe`. Remember that the squared hinge loss is calculated with $\\mathsf{K}_{nn}$ when training, and so you would just need to call `computeK` on `xTr, xTr` here.\n",
    "\n",
    "The gradients are given by:\n",
    "$$\n",
    "    \\begin{aligned}\n",
    "    \\frac{\\partial \\ell}{\\partial \\mathbf{\\beta}} &=  2 \\mathsf{K}_{nn} \\mathbf{\\beta} + C \\sum_{i=1}^{n} 2 \\max \\left[ 1-y_{i} \\left(\\mathbf{\\beta}^\\top \\mathsf{K}_{nn}[:, i] + b \\right), 0 \\right] \\left( - y_i \\mathsf{K}_{nn}[:, i] \\right) \\mathbf{1}_{1 - y_i \\left( \\mathbf{\\beta}^\\top \\mathsf{K}_{nn}[:, i] + b \\right) > 0}\\\\\n",
    "    \\frac{\\partial \\ell}{\\partial b} &=  C \\sum_{i=1}^{n} 2 \\max \\left[ 1-y_{i} \\left( \\mathbf{\\beta}^\\top \\mathsf{K}_{nn}[:, i] + b \\right), 0 \\right] \\left(-y_i \\right) \\mathbf{1}_{1 - y_i \\left( \\mathbf{\\beta}^\\top \\mathsf{K}_{nn}[:, i] + b \\right) > 0}\n",
    "    \\end{aligned}\n",
    "$$\n",
    "where the indicator function is:\n",
    "$$\n",
    "\\mathbf{1}_{1 - y_i \\left( \\mathbf{\\beta}^\\top \\mathsf{K}_{nn}[:, i] + b \\right) > 0} = \\left\\{ \\begin{array}{ll}1 & \\text{if }1 - y_i \\left( \\mathbf{\\beta}^\\top \\mathsf{K}_{nn}[:, i] + b \\right) > 0 \\\\ 0 & \\text{otherwise} \\end{array} \\right.\n",
    "$$"
   ]
  },
  {
   "cell_type": "code",
   "execution_count": 80,
   "metadata": {
    "deletable": false,
    "nbgrader": {
     "checksum": "c550cfcd15b704f023fc29204ec4c819",
     "grade": false,
     "grade_id": "cell-grad",
     "locked": false,
     "schema_version": 1,
     "solution": true
    }
   },
   "outputs": [],
   "source": [
    "def grad(beta, b, xTr, yTr, C, kerneltype, kpar=1):\n",
    "    \"\"\"\n",
    "    Calculates the gradients of the loss function with respect to beta and b.\n",
    "    \n",
    "    Input:\n",
    "        beta  : n-dimensional vector that stores the linear combination coefficients\n",
    "        b     : bias term, a scalar\n",
    "        xTr   : nxd dimensional data matrix (training set, each row is an input vector)\n",
    "        yTr   : n-dimensional vector (training labels, each entry is a label)\n",
    "        C     : scalar (constant that controls the tradeoff between l2-regularizer and hinge-loss)\n",
    "        kerneltype: either of ['linear', 'polynomial', 'rbf']\n",
    "        kpar  : kernel parameter (inverse sigma^2 in case of 'rbf', degree p in case of 'polynomial')\n",
    "    \n",
    "    Output:\n",
    "        beta_grad, bgrad\n",
    "        beta_grad :  n-dimensional vector (the gradient of loss with respect to the beta)\n",
    "        bgrad     :  scalar (the gradient of loss with respect to the bias, b)\n",
    "    \"\"\"\n",
    "    \n",
    "    n,d = xTr.shape\n",
    "    \n",
    "    beta_grad = np.zeros(n)\n",
    "    bgrad = np.zeros(1)\n",
    "    \n",
    "    # compute the kernel values between xTr and xTr \n",
    "    kernel_train = computeK(kerneltype, xTr, xTr, kpar)\n",
    "    \n",
    "    # YOUR CODE HERE\n",
    "    \n",
    "    from numpy.linalg import multi_dot\n",
    "\n",
    "    pred=beta@kernel_train+b\n",
    "    margin = np.dot(yTr,pred)\n",
    "    hinge = np.maximum(1-margin,0)\n",
    "    indicator = ((1 - margin) > 0).astype(int)\n",
    "\n",
    "    beta_grad_first_term=2*np.dot(kernel_train,beta)\n",
    "    beta_grad_second_term=C*np.sum((2*hinge*indicator*(-yTr)).reshape(-1, 1)*kernel_train, axis=0) \n",
    "    \n",
    "    beta_grad=beta_grad_first_term+beta_grad_second_term\n",
    "    bgrad = C*np.sum(2*hinge*indicator*(-yTr), axis=0)\n",
    "                                    \n",
    "    return beta_grad,bgrad\n",
    "\n",
    "    # raise NotImplementedError()"
   ]
  },
  {
   "cell_type": "code",
   "execution_count": 81,
   "metadata": {
    "deletable": false,
    "editable": false,
    "nbgrader": {
     "checksum": "562444c9f79ca1dcb5c2538d5abac938",
     "grade": false,
     "grade_id": "cell-grad_selftest",
     "locked": true,
     "schema_version": 1,
     "solution": false
    }
   },
   "outputs": [
    {
     "name": "stdout",
     "output_type": "stream",
     "text": [
      "Running Test: grad_test1 ... ✔ Passed!\n",
      "Running Test: grad_test2 ... ✔ Passed!\n",
      "Running Test: grad_test3 ... ✔ Passed!\n",
      "Running Test: grad_test4 ... ✖ Failed!\n",
      " The output of your function does not match the expected output. Check your code and try again.\n",
      "Running Test: grad_test5 ... ✖ Failed!\n",
      " The output of your function does not match the expected output. Check your code and try again.\n"
     ]
    }
   ],
   "source": [
    "# These tests test whether your grad() is implemented correctly\n",
    "\n",
    "xTr_test, yTr_test = generate_data()\n",
    "n, d = xTr_test.shape\n",
    "    \n",
    "# Checks whether grad returns a tuple\n",
    "def grad_test1():\n",
    "    beta = np.random.rand(n)\n",
    "    b = np.random.rand(1)\n",
    "    out = grad(beta, b, xTr_test, yTr_test, 10, 'rbf')\n",
    "    return len(out) == 2\n",
    "\n",
    "# Checks the dimension of gradients\n",
    "def grad_test2():\n",
    "    beta = np.random.rand(n)\n",
    "    b = np.random.rand(1)\n",
    "    beta_grad, bgrad = grad(beta, b, xTr_test, yTr_test, 10, 'rbf')\n",
    "    return len(beta_grad) == n and np.isscalar(bgrad)\n",
    "\n",
    "# Checks the gradient of the l2 regularizer\n",
    "def grad_test3():\n",
    "    beta = np.random.rand(n)\n",
    "    b = np.random.rand(1)\n",
    "    beta_grad, bgrad = grad(beta, b, xTr_test, yTr_test, 0, 'rbf')\n",
    "    beta_grad_grader, bgrad_grader = grad_grader(beta, b, xTr_test, yTr_test, 0, 'rbf')\n",
    "    return (np.linalg.norm(beta_grad - beta_grad_grader) < 1e-5) and \\\n",
    "        (np.linalg.norm(bgrad - bgrad_grader) < 1e-5)\n",
    "\n",
    "# Checks the gradient of the square hinge loss\n",
    "def grad_test4():\n",
    "    beta = np.zeros(n)\n",
    "    b = np.random.rand(1)\n",
    "    beta_grad, bgrad = grad(beta, b, xTr_test, yTr_test, 1, 'rbf')\n",
    "    beta_grad_grader, bgrad_grader = grad_grader(beta, b, xTr_test, yTr_test, 1, 'rbf')\n",
    "    return (np.linalg.norm(beta_grad - beta_grad_grader) < 1e-5) and \\\n",
    "        (np.linalg.norm(bgrad - bgrad_grader) < 1e-5)\n",
    "\n",
    "# Checks the gradient of the loss\n",
    "def grad_test5():\n",
    "    beta = np.random.rand(n)\n",
    "    b = np.random.rand(1)\n",
    "    beta_grad, bgrad = grad(beta, b, xTr_test, yTr_test, 10, 'rbf')\n",
    "    beta_grad_grader, bgrad_grader = grad_grader(beta, b, xTr_test, yTr_test, 10, 'rbf')\n",
    "    return (np.linalg.norm(beta_grad - beta_grad_grader) < 1e-5) and \\\n",
    "        (np.linalg.norm(bgrad - bgrad_grader) < 1e-5)\n",
    "\n",
    "runtest(grad_test1, 'grad_test1')\n",
    "runtest(grad_test2, 'grad_test2')\n",
    "runtest(grad_test3, 'grad_test3')\n",
    "runtest(grad_test4, 'grad_test4')\n",
    "runtest(grad_test5, 'grad_test5')"
   ]
  },
  {
   "cell_type": "code",
   "execution_count": 32,
   "metadata": {
    "deletable": false,
    "editable": false,
    "nbgrader": {
     "checksum": "e6a5e50adcf9780a271d1d05c561fdaf",
     "grade": true,
     "grade_id": "cell-grad-test1",
     "locked": true,
     "points": 1,
     "schema_version": 1,
     "solution": false
    }
   },
   "outputs": [],
   "source": [
    "# Autograder test cell - worth 1 point\n",
    "# runs grad test1"
   ]
  },
  {
   "cell_type": "code",
   "execution_count": 33,
   "metadata": {
    "deletable": false,
    "editable": false,
    "nbgrader": {
     "checksum": "9092ccd637ef0692daf56b2d73f025a4",
     "grade": true,
     "grade_id": "cell-grad-test2",
     "locked": true,
     "points": 1,
     "schema_version": 1,
     "solution": false
    }
   },
   "outputs": [],
   "source": [
    "# Autograder test cell - worth 1 point\n",
    "# runs grad test2"
   ]
  },
  {
   "cell_type": "code",
   "execution_count": 34,
   "metadata": {
    "deletable": false,
    "editable": false,
    "nbgrader": {
     "checksum": "49eef008dacc9d50d1e58f47be24cceb",
     "grade": true,
     "grade_id": "cell-grad-test3",
     "locked": true,
     "points": 1,
     "schema_version": 1,
     "solution": false
    }
   },
   "outputs": [],
   "source": [
    "# Autograder test cell - worth 1 point\n",
    "# runs grad test3"
   ]
  },
  {
   "cell_type": "code",
   "execution_count": 35,
   "metadata": {
    "deletable": false,
    "editable": false,
    "nbgrader": {
     "checksum": "f0f17b5b6aa3d7e8cd72fb7fc4601e18",
     "grade": true,
     "grade_id": "cell-grad-test4",
     "locked": true,
     "points": 1,
     "schema_version": 1,
     "solution": false
    }
   },
   "outputs": [],
   "source": [
    "# Autograder test cell - worth 1 point\n",
    "# runs grad test4"
   ]
  },
  {
   "cell_type": "code",
   "execution_count": 36,
   "metadata": {
    "deletable": false,
    "editable": false,
    "nbgrader": {
     "checksum": "9868abc360f647a4d380736d02d8dc84",
     "grade": true,
     "grade_id": "cell-grad-test5",
     "locked": true,
     "points": 1,
     "schema_version": 1,
     "solution": false
    }
   },
   "outputs": [],
   "source": [
    "# Autograder test cell - worth 1 point\n",
    "# runs grad test5"
   ]
  },
  {
   "cell_type": "markdown",
   "metadata": {
    "deletable": false,
    "editable": false,
    "nbgrader": {
     "checksum": "e688b4538225a10bd1cda39c21ea3a71",
     "grade": false,
     "grade_id": "cell-55010276d0cd5293",
     "locked": true,
     "schema_version": 1,
     "solution": false
    }
   },
   "source": [
    "## Test the Kernelized Algorithm"
   ]
  },
  {
   "cell_type": "markdown",
   "metadata": {
    "deletable": false,
    "editable": false,
    "nbgrader": {
     "checksum": "8ce182830fbd9e020f3f6b150d5f6cd3",
     "grade": false,
     "grade_id": "cell-930a242b240cc933",
     "locked": true,
     "schema_version": 1,
     "solution": false
    }
   },
   "source": [
    "Using the cell below, you can call the optimization routine that we have implemented for you to see the final loss of your model. The loss will not be 0 since it includes the non-zero regularization term. To check only squared hinge loss term, we can subtract the regularization term from the final loss."
   ]
  },
  {
   "cell_type": "code",
   "execution_count": 37,
   "metadata": {},
   "outputs": [
    {
     "name": "stdout",
     "output_type": "stream",
     "text": [
      "The Final Loss of your model is: 2511683.5372\n",
      "The Final Squared Hinge Loss of your model is: 2511682.8206\n"
     ]
    }
   ],
   "source": [
    "beta_sol, bias_sol, final_loss = minimize(objective=loss, grad=grad, xTr=xTr, yTr=yTr, C=1000, kerneltype='linear', kpar=1)\n",
    "print('The Final Loss of your model is: {:0.4f}'.format(final_loss))\n",
    "\n",
    "K_nn = computeK('linear', xTr, xTr, kpar=1)\n",
    "reg = beta_sol @ K_nn @ beta_sol\n",
    "print('The Final Squared Hinge Loss of your model is: {:0.4f}'.format(final_loss - reg))"
   ]
  },
  {
   "cell_type": "markdown",
   "metadata": {
    "deletable": false,
    "editable": false,
    "nbgrader": {
     "checksum": "969d1816c68107fd6e4b0a97e848fd79",
     "grade": false,
     "grade_id": "cell-8e81c269f495b733",
     "locked": true,
     "schema_version": 1,
     "solution": false
    }
   },
   "source": [
    "If everything is implemented correctly, you should be able to get a training error of zero when you run the following cell."
   ]
  },
  {
   "cell_type": "code",
   "execution_count": 38,
   "metadata": {
    "deletable": false,
    "editable": false,
    "nbgrader": {
     "checksum": "fd399d2efdadd3da916d754190cd296e",
     "grade": false,
     "grade_id": "cell-20ca56dcce47a510",
     "locked": true,
     "schema_version": 1,
     "solution": false
    }
   },
   "outputs": [
    {
     "name": "stdout",
     "output_type": "stream",
     "text": [
      "Training error: 0.5000\n"
     ]
    }
   ],
   "source": [
    "svmclassify = lambda x: np.sign(computeK('linear', x, xTr, 1).dot(beta_sol) + bias_sol)\n",
    "\n",
    "predsTr=svmclassify(xTr)\n",
    "trainingerr=np.mean(np.sign(predsTr)!=yTr)\n",
    "print(\"Training error: %2.4f\" % trainingerr)"
   ]
  },
  {
   "cell_type": "markdown",
   "metadata": {
    "deletable": false,
    "editable": false,
    "nbgrader": {
     "checksum": "d42a7b6df0a29f387b4e162d68f3b909",
     "grade": false,
     "grade_id": "cell-d7214490d41e9d20",
     "locked": true,
     "schema_version": 1,
     "solution": false
    }
   },
   "source": [
    "<h3>Visualize the Decision Boundary</h3>\n",
    "\n",
    "Also, when you visualize the classifier, you should see a max margin separator."
   ]
  },
  {
   "cell_type": "code",
   "execution_count": 39,
   "metadata": {},
   "outputs": [
    {
     "data": {
      "image/png": "[encoded data removed]",
      "text/plain": [
       "<Figure size 432x288 with 1 Axes>"
      ]
     },
     "metadata": {
      "needs_background": "light"
     },
     "output_type": "display_data"
    }
   ],
   "source": [
    "%matplotlib inline\n",
    "visclassifier(svmclassify, xTr, yTr)"
   ]
  },
  {
   "cell_type": "markdown",
   "metadata": {
    "deletable": false,
    "editable": false,
    "nbgrader": {
     "checksum": "b2d9ad8aa8f8309e1e1750341e3850f9",
     "grade": false,
     "grade_id": "cell-f922d756ef836ee9",
     "locked": true,
     "schema_version": 1,
     "solution": false
    }
   },
   "source": [
    "Let's visualize a different kind of nonlinear data, a spiral dataset."
   ]
  },
  {
   "cell_type": "code",
   "execution_count": 40,
   "metadata": {},
   "outputs": [
    {
     "data": {
      "image/png": "[encoded data removed]",
      "text/plain": [
       "<Figure size 432x288 with 1 Axes>"
      ]
     },
     "metadata": {
      "needs_background": "light"
     },
     "output_type": "display_data"
    }
   ],
   "source": [
    "xTr_spiral,yTr_spiral,xTe_spiral,yTe_spiral = spiraldata()\n",
    "\n",
    "%matplotlib inline\n",
    "visualize_2D(xTr_spiral, yTr_spiral)"
   ]
  },
  {
   "cell_type": "markdown",
   "metadata": {
    "deletable": false,
    "editable": false,
    "nbgrader": {
     "checksum": "f7be051fe2cdb22916e578bb5d98cbb4",
     "grade": false,
     "grade_id": "cell-a933ec17f7cbee07",
     "locked": true,
     "schema_version": 1,
     "solution": false
    }
   },
   "source": [
    "Since the dataset is nonlinear, we are going to use the RBF kernel."
   ]
  },
  {
   "cell_type": "code",
   "execution_count": 41,
   "metadata": {},
   "outputs": [
    {
     "ename": "ValueError",
     "evalue": "shapes (100,100) and (300,) not aligned: 100 (dim 1) != 300 (dim 0)",
     "output_type": "error",
     "traceback": [
      "\u001b[0;31m---------------------------------------------------------------------------\u001b[0m",
      "\u001b[0;31mValueError\u001b[0m                                Traceback (most recent call last)",
      "\u001b[0;32m<ipython-input-41-da79968e3874>\u001b[0m in \u001b[0;36m<module>\u001b[0;34m()\u001b[0m\n\u001b[0;32m----> 1\u001b[0;31m \u001b[0mbeta_sol_spiral\u001b[0m\u001b[0;34m,\u001b[0m \u001b[0mbias_sol_spiral\u001b[0m\u001b[0;34m,\u001b[0m \u001b[0mfinal_loss_spiral\u001b[0m \u001b[0;34m=\u001b[0m \u001b[0mminimize\u001b[0m\u001b[0;34m(\u001b[0m\u001b[0mobjective\u001b[0m\u001b[0;34m=\u001b[0m\u001b[0mloss\u001b[0m\u001b[0;34m,\u001b[0m \u001b[0mgrad\u001b[0m\u001b[0;34m=\u001b[0m\u001b[0mgrad\u001b[0m\u001b[0;34m,\u001b[0m \u001b[0mxTr\u001b[0m\u001b[0;34m=\u001b[0m\u001b[0mxTr_spiral\u001b[0m\u001b[0;34m,\u001b[0m \u001b[0myTr\u001b[0m\u001b[0;34m=\u001b[0m\u001b[0myTr_spiral\u001b[0m\u001b[0;34m,\u001b[0m \u001b[0mC\u001b[0m\u001b[0;34m=\u001b[0m\u001b[0;36m100\u001b[0m\u001b[0;34m,\u001b[0m \u001b[0mkerneltype\u001b[0m\u001b[0;34m=\u001b[0m\u001b[0;34m'rbf'\u001b[0m\u001b[0;34m,\u001b[0m \u001b[0mkpar\u001b[0m\u001b[0;34m=\u001b[0m\u001b[0;36m1\u001b[0m\u001b[0;34m)\u001b[0m\u001b[0;34m\u001b[0m\u001b[0;34m\u001b[0m\u001b[0m\n\u001b[0m\u001b[1;32m      2\u001b[0m \u001b[0mprint\u001b[0m\u001b[0;34m(\u001b[0m\u001b[0;34m'The Final Loss of your model is: {:0.4f}'\u001b[0m\u001b[0;34m.\u001b[0m\u001b[0mformat\u001b[0m\u001b[0;34m(\u001b[0m\u001b[0mfinal_loss_spiral\u001b[0m\u001b[0;34m)\u001b[0m\u001b[0;34m)\u001b[0m\u001b[0;34m\u001b[0m\u001b[0;34m\u001b[0m\u001b[0m\n\u001b[1;32m      3\u001b[0m \u001b[0;34m\u001b[0m\u001b[0m\n\u001b[1;32m      4\u001b[0m \u001b[0mK_nn\u001b[0m \u001b[0;34m=\u001b[0m \u001b[0mcomputeK\u001b[0m\u001b[0;34m(\u001b[0m\u001b[0;34m'rbf'\u001b[0m\u001b[0;34m,\u001b[0m \u001b[0mxTr_spiral\u001b[0m\u001b[0;34m,\u001b[0m \u001b[0mxTr_spiral\u001b[0m\u001b[0;34m,\u001b[0m \u001b[0mkpar\u001b[0m\u001b[0;34m=\u001b[0m\u001b[0;36m1\u001b[0m\u001b[0;34m)\u001b[0m\u001b[0;34m\u001b[0m\u001b[0;34m\u001b[0m\u001b[0m\n\u001b[1;32m      5\u001b[0m \u001b[0mreg\u001b[0m \u001b[0;34m=\u001b[0m \u001b[0mbeta_sol_spiral\u001b[0m \u001b[0;34m@\u001b[0m \u001b[0mK_nn\u001b[0m \u001b[0;34m@\u001b[0m \u001b[0mbeta_sol_spiral\u001b[0m\u001b[0;34m\u001b[0m\u001b[0;34m\u001b[0m\u001b[0m\n",
      "\u001b[0;32m~/workspace/helper.py\u001b[0m in \u001b[0;36mminimize\u001b[0;34m(objective, grad, xTr, yTr, C, kerneltype, kpar)\u001b[0m\n\u001b[1;32m    162\u001b[0m         \u001b[0mjac\u001b[0m\u001b[0;34m=\u001b[0m\u001b[0mgrad_lambda\u001b[0m\u001b[0;34m,\u001b[0m\u001b[0;34m\u001b[0m\u001b[0;34m\u001b[0m\u001b[0m\n\u001b[1;32m    163\u001b[0m         \u001b[0mmethod\u001b[0m\u001b[0;34m=\u001b[0m\u001b[0;34m'SLSQP'\u001b[0m\u001b[0;34m,\u001b[0m\u001b[0;34m\u001b[0m\u001b[0;34m\u001b[0m\u001b[0m\n\u001b[0;32m--> 164\u001b[0;31m         options={'ftol': 1e-8, 'maxiter':10000})\n\u001b[0m\u001b[1;32m    165\u001b[0m     \u001b[0malpha\u001b[0m \u001b[0;34m=\u001b[0m \u001b[0msol\u001b[0m\u001b[0;34m.\u001b[0m\u001b[0mx\u001b[0m\u001b[0;34m[\u001b[0m\u001b[0;34m:\u001b[0m\u001b[0;34m-\u001b[0m\u001b[0;36m1\u001b[0m\u001b[0;34m]\u001b[0m\u001b[0;34m\u001b[0m\u001b[0;34m\u001b[0m\u001b[0m\n\u001b[1;32m    166\u001b[0m     \u001b[0mb\u001b[0m \u001b[0;34m=\u001b[0m \u001b[0msol\u001b[0m\u001b[0;34m.\u001b[0m\u001b[0mx\u001b[0m\u001b[0;34m[\u001b[0m\u001b[0;34m-\u001b[0m\u001b[0;36m1\u001b[0m\u001b[0;34m]\u001b[0m\u001b[0;34m\u001b[0m\u001b[0;34m\u001b[0m\u001b[0m\n",
      "\u001b[0;32m/usr/local/lib/python3.6/dist-packages/scipy/optimize/_minimize.py\u001b[0m in \u001b[0;36mminimize\u001b[0;34m(fun, x0, args, method, jac, hess, hessp, bounds, constraints, tol, callback, options)\u001b[0m\n\u001b[1;32m    607\u001b[0m     \u001b[0;32melif\u001b[0m \u001b[0mmeth\u001b[0m \u001b[0;34m==\u001b[0m \u001b[0;34m'slsqp'\u001b[0m\u001b[0;34m:\u001b[0m\u001b[0;34m\u001b[0m\u001b[0;34m\u001b[0m\u001b[0m\n\u001b[1;32m    608\u001b[0m         return _minimize_slsqp(fun, x0, args, jac, bounds,\n\u001b[0;32m--> 609\u001b[0;31m                                constraints, callback=callback, **options)\n\u001b[0m\u001b[1;32m    610\u001b[0m     \u001b[0;32melif\u001b[0m \u001b[0mmeth\u001b[0m \u001b[0;34m==\u001b[0m \u001b[0;34m'trust-constr'\u001b[0m\u001b[0;34m:\u001b[0m\u001b[0;34m\u001b[0m\u001b[0;34m\u001b[0m\u001b[0m\n\u001b[1;32m    611\u001b[0m         return _minimize_trustregion_constr(fun, x0, args, jac, hess, hessp,\n",
      "\u001b[0;32m/usr/local/lib/python3.6/dist-packages/scipy/optimize/slsqp.py\u001b[0m in \u001b[0;36m_minimize_slsqp\u001b[0;34m(func, x0, args, jac, bounds, constraints, maxiter, ftol, iprint, disp, eps, callback, **unknown_options)\u001b[0m\n\u001b[1;32m    421\u001b[0m             \u001b[0;31m# Compute the derivatives of the objective function\u001b[0m\u001b[0;34m\u001b[0m\u001b[0;34m\u001b[0m\u001b[0;34m\u001b[0m\u001b[0m\n\u001b[1;32m    422\u001b[0m             \u001b[0;31m# For some reason SLSQP wants g dimensioned to n+1\u001b[0m\u001b[0;34m\u001b[0m\u001b[0;34m\u001b[0m\u001b[0;34m\u001b[0m\u001b[0m\n\u001b[0;32m--> 423\u001b[0;31m             \u001b[0mg\u001b[0m \u001b[0;34m=\u001b[0m \u001b[0mappend\u001b[0m\u001b[0;34m(\u001b[0m\u001b[0mfprime\u001b[0m\u001b[0;34m(\u001b[0m\u001b[0mx\u001b[0m\u001b[0;34m)\u001b[0m\u001b[0;34m,\u001b[0m \u001b[0;36m0.0\u001b[0m\u001b[0;34m)\u001b[0m\u001b[0;34m\u001b[0m\u001b[0;34m\u001b[0m\u001b[0m\n\u001b[0m\u001b[1;32m    424\u001b[0m \u001b[0;34m\u001b[0m\u001b[0m\n\u001b[1;32m    425\u001b[0m             \u001b[0;31m# Compute the normals of the constraints\u001b[0m\u001b[0;34m\u001b[0m\u001b[0;34m\u001b[0m\u001b[0;34m\u001b[0m\u001b[0m\n",
      "\u001b[0;32m/usr/local/lib/python3.6/dist-packages/scipy/optimize/optimize.py\u001b[0m in \u001b[0;36mfunction_wrapper\u001b[0;34m(*wrapper_args)\u001b[0m\n\u001b[1;32m    298\u001b[0m     \u001b[0;32mdef\u001b[0m \u001b[0mfunction_wrapper\u001b[0m\u001b[0;34m(\u001b[0m\u001b[0;34m*\u001b[0m\u001b[0mwrapper_args\u001b[0m\u001b[0;34m)\u001b[0m\u001b[0;34m:\u001b[0m\u001b[0;34m\u001b[0m\u001b[0;34m\u001b[0m\u001b[0m\n\u001b[1;32m    299\u001b[0m         \u001b[0mncalls\u001b[0m\u001b[0;34m[\u001b[0m\u001b[0;36m0\u001b[0m\u001b[0;34m]\u001b[0m \u001b[0;34m+=\u001b[0m \u001b[0;36m1\u001b[0m\u001b[0;34m\u001b[0m\u001b[0;34m\u001b[0m\u001b[0m\n\u001b[0;32m--> 300\u001b[0;31m         \u001b[0;32mreturn\u001b[0m \u001b[0mfunction\u001b[0m\u001b[0;34m(\u001b[0m\u001b[0;34m*\u001b[0m\u001b[0;34m(\u001b[0m\u001b[0mwrapper_args\u001b[0m \u001b[0;34m+\u001b[0m \u001b[0margs\u001b[0m\u001b[0;34m)\u001b[0m\u001b[0;34m)\u001b[0m\u001b[0;34m\u001b[0m\u001b[0;34m\u001b[0m\u001b[0m\n\u001b[0m\u001b[1;32m    301\u001b[0m \u001b[0;34m\u001b[0m\u001b[0m\n\u001b[1;32m    302\u001b[0m     \u001b[0;32mreturn\u001b[0m \u001b[0mncalls\u001b[0m\u001b[0;34m,\u001b[0m \u001b[0mfunction_wrapper\u001b[0m\u001b[0;34m\u001b[0m\u001b[0;34m\u001b[0m\u001b[0m\n",
      "\u001b[0;32m~/workspace/helper.py\u001b[0m in \u001b[0;36mgrad_lambda\u001b[0;34m(X)\u001b[0m\n\u001b[1;32m    152\u001b[0m \u001b[0;34m\u001b[0m\u001b[0m\n\u001b[1;32m    153\u001b[0m     \u001b[0;32mdef\u001b[0m \u001b[0mgrad_lambda\u001b[0m\u001b[0;34m(\u001b[0m\u001b[0mX\u001b[0m\u001b[0;34m)\u001b[0m\u001b[0;34m:\u001b[0m\u001b[0;34m\u001b[0m\u001b[0;34m\u001b[0m\u001b[0m\n\u001b[0;32m--> 154\u001b[0;31m         \u001b[0;32mreturn\u001b[0m \u001b[0mnp\u001b[0m\u001b[0;34m.\u001b[0m\u001b[0mappend\u001b[0m\u001b[0;34m(\u001b[0m\u001b[0;34m*\u001b[0m\u001b[0mgrad\u001b[0m\u001b[0;34m(\u001b[0m\u001b[0mX\u001b[0m\u001b[0;34m[\u001b[0m\u001b[0;34m:\u001b[0m\u001b[0;34m-\u001b[0m\u001b[0;36m1\u001b[0m\u001b[0;34m]\u001b[0m\u001b[0;34m,\u001b[0m \u001b[0mX\u001b[0m\u001b[0;34m[\u001b[0m\u001b[0;34m-\u001b[0m\u001b[0;36m1\u001b[0m\u001b[0;34m]\u001b[0m\u001b[0;34m,\u001b[0m \u001b[0mxTr\u001b[0m\u001b[0;34m,\u001b[0m \u001b[0myTr\u001b[0m\u001b[0;34m,\u001b[0m \u001b[0mC\u001b[0m\u001b[0;34m,\u001b[0m \u001b[0mkerneltype\u001b[0m\u001b[0;34m,\u001b[0m \u001b[0mkpar\u001b[0m\u001b[0;34m)\u001b[0m\u001b[0;34m)\u001b[0m\u001b[0;34m\u001b[0m\u001b[0;34m\u001b[0m\u001b[0m\n\u001b[0m\u001b[1;32m    155\u001b[0m \u001b[0;34m\u001b[0m\u001b[0m\n\u001b[1;32m    156\u001b[0m     \u001b[0mn\u001b[0m\u001b[0;34m,\u001b[0m \u001b[0md\u001b[0m \u001b[0;34m=\u001b[0m \u001b[0mxTr\u001b[0m\u001b[0;34m.\u001b[0m\u001b[0mshape\u001b[0m\u001b[0;34m\u001b[0m\u001b[0;34m\u001b[0m\u001b[0m\n",
      "\u001b[0;32m<ipython-input-30-d4848b33a976>\u001b[0m in \u001b[0;36mgrad\u001b[0;34m(beta, b, xTr, yTr, C, kerneltype, kpar)\u001b[0m\n\u001b[1;32m     34\u001b[0m     \u001b[0mindicator\u001b[0m \u001b[0;34m=\u001b[0m \u001b[0;34m(\u001b[0m\u001b[0;34m(\u001b[0m\u001b[0;36m1\u001b[0m \u001b[0;34m-\u001b[0m \u001b[0mmargin\u001b[0m\u001b[0;34m)\u001b[0m \u001b[0;34m>\u001b[0m \u001b[0;36m0\u001b[0m\u001b[0;34m)\u001b[0m\u001b[0;34m.\u001b[0m\u001b[0mastype\u001b[0m\u001b[0;34m(\u001b[0m\u001b[0mint\u001b[0m\u001b[0;34m)\u001b[0m\u001b[0;34m\u001b[0m\u001b[0;34m\u001b[0m\u001b[0m\n\u001b[1;32m     35\u001b[0m \u001b[0;34m\u001b[0m\u001b[0m\n\u001b[0;32m---> 36\u001b[0;31m     \u001b[0mbeta_grad_first_term\u001b[0m \u001b[0;34m=\u001b[0m \u001b[0;36m2\u001b[0m\u001b[0;34m*\u001b[0m\u001b[0mnp\u001b[0m\u001b[0;34m.\u001b[0m\u001b[0mdot\u001b[0m\u001b[0;34m(\u001b[0m\u001b[0mkernel_test\u001b[0m\u001b[0;34m,\u001b[0m\u001b[0mbeta\u001b[0m\u001b[0;34m)\u001b[0m\u001b[0;34m\u001b[0m\u001b[0;34m\u001b[0m\u001b[0m\n\u001b[0m\u001b[1;32m     37\u001b[0m     \u001b[0mbeta_grad_second_term\u001b[0m\u001b[0;34m=\u001b[0m\u001b[0mC\u001b[0m\u001b[0;34m*\u001b[0m\u001b[0mnp\u001b[0m\u001b[0;34m.\u001b[0m\u001b[0msum\u001b[0m\u001b[0;34m(\u001b[0m\u001b[0;36m2\u001b[0m\u001b[0;34m*\u001b[0m\u001b[0mnp\u001b[0m\u001b[0;34m.\u001b[0m\u001b[0mdot\u001b[0m\u001b[0;34m(\u001b[0m\u001b[0mhinge\u001b[0m\u001b[0;34m,\u001b[0m\u001b[0;34m-\u001b[0m\u001b[0myTr\u001b[0m\u001b[0;34m)\u001b[0m\u001b[0;34m.\u001b[0m\u001b[0mreshape\u001b[0m\u001b[0;34m(\u001b[0m\u001b[0;34m-\u001b[0m\u001b[0;36m1\u001b[0m\u001b[0;34m,\u001b[0m \u001b[0;36m1\u001b[0m\u001b[0;34m)\u001b[0m\u001b[0;34m*\u001b[0m\u001b[0mkernel_train\u001b[0m\u001b[0;34m,\u001b[0m \u001b[0maxis\u001b[0m\u001b[0;34m=\u001b[0m\u001b[0;36m0\u001b[0m\u001b[0;34m)\u001b[0m\u001b[0;34m*\u001b[0m\u001b[0mindicator\u001b[0m\u001b[0;34m\u001b[0m\u001b[0;34m\u001b[0m\u001b[0m\n\u001b[1;32m     38\u001b[0m \u001b[0;34m\u001b[0m\u001b[0m\n",
      "\u001b[0;32m<__array_function__ internals>\u001b[0m in \u001b[0;36mdot\u001b[0;34m(*args, **kwargs)\u001b[0m\n",
      "\u001b[0;31mValueError\u001b[0m: shapes (100,100) and (300,) not aligned: 100 (dim 1) != 300 (dim 0)"
     ]
    }
   ],
   "source": [
    "beta_sol_spiral, bias_sol_spiral, final_loss_spiral = minimize(objective=loss, grad=grad, xTr=xTr_spiral, yTr=yTr_spiral, C=100, kerneltype='rbf', kpar=1)\n",
    "print('The Final Loss of your model is: {:0.4f}'.format(final_loss_spiral))\n",
    "\n",
    "K_nn = computeK('rbf', xTr_spiral, xTr_spiral, kpar=1)\n",
    "reg = beta_sol_spiral @ K_nn @ beta_sol_spiral\n",
    "print('The Final Squared Hinge Loss of your model is: {:0.4f}'.format(final_loss_spiral - reg))"
   ]
  },
  {
   "cell_type": "markdown",
   "metadata": {
    "deletable": false,
    "editable": false,
    "nbgrader": {
     "checksum": "3024813dcdb212a3e6c40b87b6128d64",
     "grade": false,
     "grade_id": "cell-28c6cee7c68d04e9",
     "locked": true,
     "schema_version": 1,
     "solution": false
    }
   },
   "source": [
    "If you do everything correctly, your training error and test error should both be zero!"
   ]
  },
  {
   "cell_type": "code",
   "execution_count": null,
   "metadata": {
    "deletable": false,
    "editable": false,
    "nbgrader": {
     "checksum": "25a221d777e6a1d4838b9449fd33c46e",
     "grade": false,
     "grade_id": "cell-16357e4762b8370b",
     "locked": true,
     "schema_version": 1,
     "solution": false
    }
   },
   "outputs": [],
   "source": [
    "svmclassify_spiral = lambda x: np.sign(computeK('rbf', xTr_spiral, x, 1).transpose().dot(beta_sol_spiral) + bias_sol_spiral)\n",
    "\n",
    "predsTr_spiral = svmclassify_spiral(xTr_spiral)\n",
    "trainingerr_spiral = np.mean(predsTr_spiral != yTr_spiral)\n",
    "print(\"Training error: %2.4f\" % trainingerr_spiral)\n",
    "\n",
    "predsTe_spiral = svmclassify_spiral(xTe_spiral)\n",
    "testerr_spiral = np.mean(predsTe_spiral != yTe_spiral)\n",
    "print(\"Test error: %2.4f\" % testerr_spiral)"
   ]
  },
  {
   "cell_type": "markdown",
   "metadata": {
    "deletable": false,
    "editable": false,
    "nbgrader": {
     "checksum": "5258391aaa1011f9114a967201e65783",
     "grade": false,
     "grade_id": "cell-52cb1b9aae3993cb",
     "locked": true,
     "schema_version": 1,
     "solution": false
    }
   },
   "source": [
    "Now, let's visualize the classifier on the spiral dataset!"
   ]
  },
  {
   "cell_type": "code",
   "execution_count": null,
   "metadata": {
    "deletable": false,
    "editable": false,
    "nbgrader": {
     "checksum": "3ed86f72e1c71972c4248d46c6221ad1",
     "grade": false,
     "grade_id": "cell-40d1227ae7bf20e6",
     "locked": true,
     "schema_version": 1,
     "solution": false
    }
   },
   "outputs": [],
   "source": [
    "visclassifier(svmclassify_spiral, xTr_spiral, yTr_spiral)"
   ]
  },
  {
   "cell_type": "markdown",
   "metadata": {
    "deletable": false,
    "editable": false,
    "nbgrader": {
     "checksum": "92802bb8686f9f8c5ae50283635cec52",
     "grade": false,
     "grade_id": "cell-bf3cce5e4e644ea2",
     "locked": true,
     "schema_version": 1,
     "solution": false
    }
   },
   "source": [
    "<h3>Interactive Demo</h3>\n",
    "\n",
    "Running the code below will create an interactive window where you can click to add new data points to see how a kernel SVM with RBF kernel will respond. There may be a significant delay between clicks."
   ]
  },
  {
   "cell_type": "code",
   "execution_count": null,
   "metadata": {
    "deletable": false,
    "editable": false
   },
   "outputs": [],
   "source": [
    "Xdata = []\n",
    "ldata = []\n",
    "svmC=10;\n",
    "\n",
    "fig = plt.figure()\n",
    "details = {\n",
    "    'ax': fig.add_subplot(111), \n",
    "}\n",
    "\n",
    "plt.xlim(0,1)\n",
    "plt.ylim(0,1)\n",
    "plt.title('Click to add positive point and shift+click to add negative points.')\n",
    "\n",
    "def vis2(fun,xTr,yTr):\n",
    "    yTr = np.array(yTr).flatten()\n",
    "    symbols = [\"ko\",\"kx\"]\n",
    "    marker_symbols = ['o', 'x']\n",
    "    mycolors = [[0.5, 0.5, 1], [1, 0.5, 0.5]]\n",
    "    classvals = np.unique(yTr)\n",
    "    res=150\n",
    "    xrange = np.linspace(0,1,res)\n",
    "    yrange = np.linspace(0,1,res)\n",
    "    pixelX = repmat(xrange, res, 1)\n",
    "    pixelY = repmat(yrange, res, 1).T\n",
    "    xTe = np.array([pixelX.flatten(), pixelY.flatten()]).T\n",
    "    testpreds = fun(xTe)\n",
    "    Z = testpreds.reshape(res, res)\n",
    "    plt.contourf(pixelX, pixelY, np.sign(Z), colors=mycolors)\n",
    "\n",
    "    for idx, c in enumerate(classvals):\n",
    "        plt.scatter(xTr[yTr == c,0],\n",
    "            xTr[yTr == c,1],\n",
    "            marker=marker_symbols[idx],\n",
    "            color='k'\n",
    "           )\n",
    "    plt.show()\n",
    "\n",
    "\n",
    "def generate_onclick(Xdata, ldata):    \n",
    "    global details\n",
    "    def onclick(event):\n",
    "        if event.key == 'shift': \n",
    "            # add positive point\n",
    "            details['ax'].plot(event.xdata,event.ydata,'or')\n",
    "            label = 1\n",
    "        else: # add negative point\n",
    "            details['ax'].plot(event.xdata,event.ydata,'ob')\n",
    "            label = -1    \n",
    "        pos = np.array([event.xdata, event.ydata])\n",
    "        ldata.append(label)\n",
    "        Xdata.append(pos)\n",
    "        \n",
    "        X=np.array(Xdata)\n",
    "        Y=np.array(ldata)\n",
    "        beta_sol, bias_sol, final_loss = minimize(objective=loss, grad=grad, xTr=X, yTr=Y, C=svmC, kerneltype='rbf', kpar=1)\n",
    "        svmclassify_demo = lambda x: np.sign(computeK('rbf', X, x, 1).transpose().dot(beta_sol) + bias_sol)\n",
    "        vis2(svmclassify_demo, X, Y)    \n",
    "    return onclick\n",
    "\n",
    "\n",
    "cid = fig.canvas.mpl_connect('button_press_event', generate_onclick(Xdata, ldata))\n",
    "plt.show()"
   ]
  },
  {
   "cell_type": "markdown",
   "metadata": {
    "deletable": false,
    "editable": false,
    "nbgrader": {
     "checksum": "c2e9b280390e13918670966c81021c75",
     "grade": false,
     "grade_id": "cell-6b35b9e2250e2c38",
     "locked": true,
     "schema_version": 1,
     "solution": false
    }
   },
   "source": [
    "### Scikit-learn Implementation\n",
    "\n",
    "Scikit-learn provides a variety of kernels to create [kernel SVM classifiers](https://scikit-learn.org/stable/modules/generated/sklearn.svm.SVC.html). Here's an example on the spiral dataset."
   ]
  },
  {
   "cell_type": "code",
   "execution_count": null,
   "metadata": {},
   "outputs": [],
   "source": [
    "from sklearn.svm import SVC\n",
    "\n",
    "clf = SVC(\n",
    "    C=100,\n",
    "    kernel='rbf',\n",
    "    gamma=1, # equivalent to kpar in our implementation\n",
    "    shrinking=False,\n",
    "    tol=1e-8, # early stopping threshold, solver stops when successive losses don't change more than tol\n",
    "    max_iter=10000,\n",
    "    random_state=0\n",
    ")\n",
    "clf.fit(xTr_spiral, yTr_spiral)\n",
    "\n",
    "predsTr_spiral = clf.predict(xTr_spiral)\n",
    "trainingerr_spiral = np.mean(predsTr_spiral != yTr_spiral)\n",
    "print(\"Training error: %2.4f\" % trainingerr_spiral)\n",
    "\n",
    "predsTe_spiral = clf.predict(xTe_spiral)\n",
    "testerr_spiral = np.mean(predsTe_spiral != yTe_spiral)\n",
    "print(\"Test error: %2.4f\" % testerr_spiral)"
   ]
  },
  {
   "cell_type": "code",
   "execution_count": null,
   "metadata": {},
   "outputs": [],
   "source": []
  }
 ],
 "metadata": {
  "kernelspec": {
   "display_name": "Python 3",
   "language": "python",
   "name": "python3"
  },
  "language_info": {
   "codemirror_mode": {
    "name": "ipython",
    "version": 3
   },
   "file_extension": ".py",
   "mimetype": "text/x-python",
   "name": "python",
   "nbconvert_exporter": "python",
   "pygments_lexer": "ipython3",
   "version": "3.6.8"
  }
 },
 "nbformat": 4,
 "nbformat_minor": 4
}
