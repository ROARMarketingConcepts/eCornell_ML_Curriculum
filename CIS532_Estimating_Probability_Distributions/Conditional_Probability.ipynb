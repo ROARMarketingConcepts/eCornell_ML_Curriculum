{
  "nbformat": 4,
  "nbformat_minor": 0,
  "metadata": {
    "colab": {
      "provenance": []
    },
    "kernelspec": {
      "name": "python3",
      "display_name": "Python 3"
    },
    "language_info": {
      "name": "python"
    }
  },
  "cells": [
    {
      "cell_type": "markdown",
      "source": [
        "## Find the Conditional Probability\n",
        "\n",
        "In the final project of this course, we will need to write a function that assumes conditional independence and determines class-conditional probabilities. Imagine we have the following vector of probabilities of 5 features given a class label $c$:\n",
        "\n",
        "$P(x|y=c) = [0.212, 0.234, 0.155, .021, .04]$\n",
        "\n",
        "Since we will assume independence, we can simply multiply these probabilities to get the class conditional probability of observing this data point (i.e. this combination of feature values)."
      ],
      "metadata": {
        "id": "nSCbReis3HtS"
      }
    },
    {
      "cell_type": "code",
      "execution_count": 1,
      "metadata": {
        "id": "r6cTGCzx21aY"
      },
      "outputs": [],
      "source": [
        "import numpy as np"
      ]
    },
    {
      "cell_type": "markdown",
      "source": [
        "We create the array `np.array([0.212, 0.234, 0.155, .021, .04])`, which corresponds to the likelihood of observing the features $x_1...x_5$ conditional on the class label $y=c$."
      ],
      "metadata": {
        "id": "R2ja9tUM4JoF"
      }
    },
    {
      "cell_type": "code",
      "source": [
        "x=np.array([0.212, 0.234, 0.155, .021, .04])\n",
        "x"
      ],
      "metadata": {
        "colab": {
          "base_uri": "https://localhost:8080/"
        },
        "id": "h5WwkvAZ33jF",
        "outputId": "8ddbea5a-b7b4-45ec-dd7f-0ac7b0f2ee48"
      },
      "execution_count": 3,
      "outputs": [
        {
          "output_type": "execute_result",
          "data": {
            "text/plain": [
              "array([0.212, 0.234, 0.155, 0.021, 0.04 ])"
            ]
          },
          "metadata": {},
          "execution_count": 3
        }
      ]
    },
    {
      "cell_type": "markdown",
      "source": [
        "Compute the product, sum of the logarithm, and exponentiated sum of the logarithm of the probabilities. We may find `np.prod`, `np.sum`, `np.log` and `np.exp` helpful. Think about what this product signifies, in terms of probabilities."
      ],
      "metadata": {
        "id": "7MDw6axZ4rHj"
      }
    },
    {
      "cell_type": "code",
      "source": [
        "np.prod(x)"
      ],
      "metadata": {
        "colab": {
          "base_uri": "https://localhost:8080/"
        },
        "id": "5NTaBDF75E1F",
        "outputId": "caa62295-ad7b-4ea4-92ea-a4ed120b24c5"
      },
      "execution_count": 5,
      "outputs": [
        {
          "output_type": "execute_result",
          "data": {
            "text/plain": [
              "6.458961600000001e-06"
            ]
          },
          "metadata": {},
          "execution_count": 5
        }
      ]
    },
    {
      "cell_type": "code",
      "source": [
        "np.sum(np.log(x))"
      ],
      "metadata": {
        "colab": {
          "base_uri": "https://localhost:8080/"
        },
        "id": "F23NVgWt5dld",
        "outputId": "9f59d4d7-6f16-4452-cd27-57659da430b7"
      },
      "execution_count": 6,
      "outputs": [
        {
          "output_type": "execute_result",
          "data": {
            "text/plain": [
              "-11.950041996124366"
            ]
          },
          "metadata": {},
          "execution_count": 6
        }
      ]
    },
    {
      "cell_type": "code",
      "source": [
        "np.exp(np.sum(np.log(x)))"
      ],
      "metadata": {
        "colab": {
          "base_uri": "https://localhost:8080/"
        },
        "id": "vwroqwgl5nZy",
        "outputId": "06cd4cfb-0891-4101-ae37-cd04e1fd0d00"
      },
      "execution_count": 7,
      "outputs": [
        {
          "output_type": "execute_result",
          "data": {
            "text/plain": [
              "6.458961599999997e-06"
            ]
          },
          "metadata": {},
          "execution_count": 7
        }
      ]
    }
  ]
}